{
 "cells": [
  {
   "cell_type": "markdown",
   "metadata": {},
   "source": [
    "# Industry visualization\n",
    "This project is all about helping users understand the charactistics of a given industry and understand them in the context of all industries. It mainly uses Prof. Damodaran's data. Only publicly traded companies in the industry are considered. "
   ]
  },
  {
   "cell_type": "code",
   "execution_count": 1,
   "metadata": {},
   "outputs": [],
   "source": [
    "# Import required libraries\n",
    "import pandas as pd\n",
    "import numpy as np\n",
    "\n",
    "import sys\n",
    "import os\n",
    "\n",
    "sys.path.append(\"../\")\n",
    "from edgar_utils import ticker_to_cik, get_companywide_concepts, get_financial_item\n",
    "from adamodaran_utils import *\n",
    "\n",
    "from pprint import pprint\n",
    "pd.set_option('display.width', 1000)"
   ]
  },
  {
   "cell_type": "code",
   "execution_count": 13,
   "metadata": {},
   "outputs": [],
   "source": [
    "indname = 'Total Market (without financials)'\n",
    "demand_df = get_ind_demand(industry_list=[indname])\n",
    "fundamentals_df = get_ind_fundamentals(industry_list=[indname])\n",
    "profitability_df = get_ind_profitability(industry_list=[indname])\n",
    "efficiency_df = get_ind_efficiency(industry_list=[indname])\n",
    "risk_df = get_ind_risk(industry_list=[indname])\n",
    "multiples_df = get_ind_multiples(industry_list=[indname])\n"
   ]
  },
  {
   "cell_type": "code",
   "execution_count": 15,
   "metadata": {},
   "outputs": [
    {
     "name": "stdout",
     "output_type": "stream",
     "text": [
      "-------------------------------\n",
      " TOTAL MARKET (WITHOUT FINANCIALS) INDUSTRY\n",
      "-------------------------------\n",
      "                  MARKET      PROFITABILITY           EFFICIENCY                RISK         MULTIPLES\n",
      "0  Market_size: $20318 B  Gross Margin: 32%  Receivable days: 41  No. of firms: 4935  Current PE: 59.8\n",
      "1    Past CAGR (5y): 10%   EBIT Margin: 11%   Inventory days: 47          Beta: 0.99  Forward PE: 34.7\n",
      "2    Next CAGR (2y): 34%     Net Margin: 7%     Payable days: 57           D/E: 19.0   EV/EBITDA: 15.8\n",
      "3    Next CAGR (5y): 25%           ROC: 15%                                                   PBV: 5.1\n",
      "4                                  ROE: 16%                                              EV/Sales: 3.0\n"
     ]
    }
   ],
   "source": [
    "print(\"-------------------------------\")\n",
    "print(\" {} INDUSTRY\".format(indname.upper()))\n",
    "print(\"-------------------------------\")\n",
    "\n",
    "s1 = \"Market_size: ${} B\".format(fundamentals_df.loc[indname,'Revenue'])\n",
    "s2 = \"Past CAGR (5y): {}%\".format(demand_df.loc[indname, 'Revenue CAGR (past 5y)'])\n",
    "s3 = \"Next CAGR (2y): {}%\".format(demand_df.loc[indname, 'Revenue CAGR (next 2y)'])\n",
    "s4 = \"Next CAGR (5y): {}%\".format(demand_df.loc[indname, 'Revenue CAGR (next 5y)'])\n",
    "s5 = \"\"\n",
    "\n",
    "ps1 = \"Gross Margin: {}%\".format(profitability_df.loc[indname,'Gross Margin'])\n",
    "ps2 = \"EBIT Margin: {}%\".format(profitability_df.loc[indname,'EBIT Margin'])\n",
    "ps3 = \"Net Margin: {}%\".format(profitability_df.loc[indname,'Net Margin'])\n",
    "ps4 = \"ROC: {}%\".format(profitability_df.loc[indname,'ROC'])\n",
    "ps5 = \"ROE: {}%\".format(profitability_df.loc[indname,'ROE'])\n",
    "\n",
    "es1 = \"Receivable days: {}\".format(np.int64(efficiency_df.loc[indname,'DSO']))\n",
    "es2 = \"Inventory days: {}\".format(np.int64(efficiency_df.loc[indname,'DSI']))\n",
    "es3 = \"Payable days: {}\".format(np.int64(efficiency_df.loc[indname,'DPO']))\n",
    "es4 = \"\"\n",
    "es5 = \"\"\n",
    "\n",
    "rs1 = \"No. of firms: {}\".format(risk_df.loc[indname,'Number of firms'])\n",
    "rs2 = \"Beta: {}\".format(risk_df.loc[indname,'Beta'])\n",
    "rs3 = \"D/E: {}\".format(risk_df.loc[indname,'D/E'])\n",
    "rs4 = \"\"\n",
    "rs5 = \"\"\n",
    "\n",
    "ms1 = \"Current PE: {}\".format(multiples_df.loc[indname,'Current PE'])\n",
    "ms2 = \"Forward PE: {}\".format(multiples_df.loc[indname,'Forward PE'])\n",
    "ms3 = \"EV/EBITDA: {}\".format(multiples_df.loc[indname,'EV/EBITDA'])\n",
    "ms4 = \"PBV: {}\".format(multiples_df.loc[indname,'PBV'])\n",
    "ms5 = \"EV/Sales: {}\".format(multiples_df.loc[indname,'EV/Sales'])\n",
    "\n",
    "\n",
    "display_df = pd.DataFrame({\n",
    "                            'MARKET':[s1,s2,s3,s4,s5],\n",
    "                            'PROFITABILITY':[ps1,ps2,ps3,ps4,ps5],\n",
    "                            'EFFICIENCY':[es1,es2,es3,es4,es5],\n",
    "                            'RISK':[rs1,rs2,rs3,rs4,rs5],\n",
    "                            'MULTIPLES':[ms1,ms2,ms3,ms4,ms5]\n",
    "                           })\n",
    "pprint(display_df)\n",
    "\n"
   ]
  }
 ],
 "metadata": {
  "kernelspec": {
   "display_name": "Python 3",
   "language": "python",
   "name": "python3"
  },
  "language_info": {
   "codemirror_mode": {
    "name": "ipython",
    "version": 3
   },
   "file_extension": ".py",
   "mimetype": "text/x-python",
   "name": "python",
   "nbconvert_exporter": "python",
   "pygments_lexer": "ipython3",
   "version": "3.11.9"
  }
 },
 "nbformat": 4,
 "nbformat_minor": 2
}
