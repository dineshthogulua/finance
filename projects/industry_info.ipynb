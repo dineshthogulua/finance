{
 "cells": [
  {
   "cell_type": "markdown",
   "metadata": {},
   "source": [
    "# Industry visualization\n",
    "This project is all about helping users understand the charactistics of a given industry and understand them in the context of all industries. It mainly uses Prof. Damodaran's data. Only publicly traded companies in the industry are considered. "
   ]
  },
  {
   "cell_type": "code",
   "execution_count": 13,
   "metadata": {},
   "outputs": [],
   "source": [
    "# Import required libraries\n",
    "import pandas as pd\n",
    "import numpy as np\n",
    "import matplotlib.pyplot as plt\n",
    "\n",
    "import sys\n",
    "import os\n",
    "\n",
    "\n",
    "sys.path.append(\"../\")\n",
    "from edgar_utils import ticker_to_cik, get_companywide_concepts, get_financial_item\n",
    "from adamodaran_utils import *\n",
    "\n",
    "from pprint import pprint\n",
    "pd.set_option('display.width', 1000)"
   ]
  },
  {
   "cell_type": "code",
   "execution_count": 16,
   "metadata": {},
   "outputs": [
    {
     "name": "stdout",
     "output_type": "stream",
     "text": [
      "['Shoe']\n"
     ]
    }
   ],
   "source": [
    "ind_list = get_industry_list()\n",
    "filtered_list = [s for s in ind_list if \"shoe\" in s.lower()]\n",
    "print(filtered_list)"
   ]
  },
  {
   "cell_type": "code",
   "execution_count": 3,
   "metadata": {},
   "outputs": [
    {
     "name": "stdout",
     "output_type": "stream",
     "text": [
      "                                                 company     industry                  sector  SIC Code        Country  exchange ticker\n",
      "41022                The Trade Desk, Inc. (NasdaqGM:TTD)  Advertising  Communication Services      7370  United States  NasdaqGM    TTD\n",
      "41023                      Omnicom Group Inc. (NYSE:OMC)  Advertising  Communication Services      7311  United States      NYSE    OMC\n",
      "41024  The Interpublic Group of Companies, Inc. (NYSE...  Advertising  Communication Services      7311  United States      NYSE    IPG\n",
      "41025                      Magnite, Inc. (NasdaqGS:MGNI)  Advertising  Communication Services      7310  United States  NasdaqGS   MGNI\n",
      "41026                           Ibotta, Inc. (NYSE:IBTA)  Advertising  Communication Services      7310  United States      NYSE   IBTA\n"
     ]
    }
   ],
   "source": [
    "ind_df = get_industry_df()\n",
    "pprint(ind_df.head())"
   ]
  },
  {
   "cell_type": "code",
   "execution_count": 22,
   "metadata": {},
   "outputs": [
    {
     "name": "stdout",
     "output_type": "stream",
     "text": [
      "                                       company industry                  sector  SIC Code        Country  exchange ticker\n",
      "46408                    NIKE, Inc. (NYSE:NKE)     Shoe  Consumer Discretionary      3021  United States      NYSE    NKE\n",
      "46409  Deckers Outdoor Corporation (NYSE:DECK)     Shoe  Consumer Discretionary      3021  United States      NYSE   DECK\n",
      "46410         Skechers U.S.A., Inc. (NYSE:SKX)     Shoe  Consumer Discretionary      3140  United States      NYSE    SKX\n",
      "46411              Crocs, Inc. (NasdaqGS:CROX)     Shoe  Consumer Discretionary      3021  United States  NasdaqGS   CROX\n",
      "46412      Steven Madden, Ltd. (NasdaqGS:SHOO)     Shoe  Consumer Discretionary      3140  United States  NasdaqGS   SHOO\n",
      "46413    Wolverine World Wide, Inc. (NYSE:WWW)     Shoe  Consumer Discretionary      3140  United States      NYSE    WWW\n",
      "46414       Rocky Brands, Inc. (NasdaqGS:RCKY)     Shoe  Consumer Discretionary      3140  United States  NasdaqGS   RCKY\n",
      "46416           Allbirds, Inc. (NasdaqGS:BIRD)     Shoe  Consumer Discretionary      3021  United States  NasdaqGS   BIRD\n"
     ]
    }
   ],
   "source": [
    "print(ind_df[ind_df.industry==\"Shoe\"])"
   ]
  },
  {
   "cell_type": "code",
   "execution_count": 18,
   "metadata": {},
   "outputs": [
    {
     "name": "stdout",
     "output_type": "stream",
     "text": [
      "Industry of CROX: Shoe\n",
      "----------------------------\n",
      "List of companies in this industry:\n",
      "----------------------------\n",
      "['NIKE, Inc. (NYSE:NKE)' 'Deckers Outdoor Corporation (NYSE:DECK)'\n",
      " 'Skechers U.S.A., Inc. (NYSE:SKX)' 'Crocs, Inc. (NasdaqGS:CROX)'\n",
      " 'Steven Madden, Ltd. (NasdaqGS:SHOO)'\n",
      " 'Wolverine World Wide, Inc. (NYSE:WWW)'\n",
      " 'Rocky Brands, Inc. (NasdaqGS:RCKY)' 'Allbirds, Inc. (NasdaqGS:BIRD)']\n"
     ]
    }
   ],
   "source": [
    "# company_ticker = \"CMG\"\n",
    "company_ticker = \"CROX\"\n",
    "indname = ind_df[ind_df['ticker']==company_ticker].industry.values[0]\n",
    "print(\"Industry of {}: {}\".format(company_ticker, indname))\n",
    "print(\"----------------------------\")\n",
    "companies = ind_df[ind_df['industry']==indname].company.values\n",
    "# print(\"\\n\")\n",
    "print(\"List of companies in this industry:\")\n",
    "print(\"----------------------------\")\n",
    "print(companies)"
   ]
  },
  {
   "cell_type": "code",
   "execution_count": 19,
   "metadata": {},
   "outputs": [],
   "source": [
    "# indname = 'Total Market (without financials)'\n",
    "# indname = 'Apparel'\n",
    "demand_df = get_ind_demand(industry_list=[indname])\n",
    "fundamentals_df = get_ind_fundamentals(industry_list=[indname])\n",
    "profitability_df = get_ind_profitability(industry_list=[indname])\n",
    "efficiency_df = get_ind_efficiency(industry_list=[indname])\n",
    "risk_df = get_ind_risk(industry_list=[indname])\n",
    "multiples_df = get_ind_multiples(industry_list=[indname])"
   ]
  },
  {
   "cell_type": "code",
   "execution_count": 20,
   "metadata": {},
   "outputs": [
    {
     "name": "stdout",
     "output_type": "stream",
     "text": [
      "-----------------------------------------\n",
      " SHOE INDUSTRY\n",
      "-----------------------------------------\n",
      "                MARKET      PROFITABILITY           EFFICIENCY              RISK         MULTIPLES\n",
      "0   Market_size: $71 B  Gross Margin: 47%  Receivable days: 42  No. of firms: 12  Current PE: 18.6\n",
      "1  Past CAGR (5y): 10%   EBIT Margin: 12%  Inventory days: 115        Beta: 1.23  Forward PE: 19.4\n",
      "2   Next CAGR (2y): 1%    Net Margin: 10%     Payable days: 57         D/E: 10.0   EV/EBITDA: 14.8\n",
      "3   Next CAGR (5y): 6%           ROC: 29%                                                 PBV: 6.7\n",
      "4                                ROE: 32%                                            EV/Sales: 2.4\n"
     ]
    }
   ],
   "source": [
    "print(\"-----------------------------------------\")\n",
    "print(\" {} INDUSTRY\".format(indname.upper()))\n",
    "print(\"-----------------------------------------\")\n",
    "\n",
    "s1 = \"Market_size: ${} B\".format(fundamentals_df.loc[indname,'Revenue'])\n",
    "s2 = \"Past CAGR (5y): {}%\".format(demand_df.loc[indname, 'Revenue CAGR (past 5y)'])\n",
    "s3 = \"Next CAGR (2y): {}%\".format(demand_df.loc[indname, 'Revenue CAGR (next 2y)'])\n",
    "s4 = \"Next CAGR (5y): {}%\".format(demand_df.loc[indname, 'Revenue CAGR (next 5y)'])\n",
    "s5 = \"\"\n",
    "\n",
    "ps1 = \"Gross Margin: {}%\".format(profitability_df.loc[indname,'Gross Margin'])\n",
    "ps2 = \"EBIT Margin: {}%\".format(profitability_df.loc[indname,'EBIT Margin'])\n",
    "ps3 = \"Net Margin: {}%\".format(profitability_df.loc[indname,'Net Margin'])\n",
    "ps4 = \"ROC: {}%\".format(profitability_df.loc[indname,'ROC'])\n",
    "ps5 = \"ROE: {}%\".format(profitability_df.loc[indname,'ROE'])\n",
    "\n",
    "es1 = \"Receivable days: {}\".format(np.int64(efficiency_df.loc[indname,'DSO']))\n",
    "es2 = \"Inventory days: {}\".format(np.int64(efficiency_df.loc[indname,'DSI']))\n",
    "es3 = \"Payable days: {}\".format(np.int64(efficiency_df.loc[indname,'DPO']))\n",
    "es4 = \"\"\n",
    "es5 = \"\"\n",
    "\n",
    "rs1 = \"No. of firms: {}\".format(risk_df.loc[indname,'Number of firms'])\n",
    "rs2 = \"Beta: {}\".format(risk_df.loc[indname,'Beta'])\n",
    "rs3 = \"D/E: {}\".format(risk_df.loc[indname,'D/E'])\n",
    "rs4 = \"\"\n",
    "rs5 = \"\"\n",
    "\n",
    "ms1 = \"Current PE: {}\".format(multiples_df.loc[indname,'Current PE'])\n",
    "ms2 = \"Forward PE: {}\".format(multiples_df.loc[indname,'Forward PE'])\n",
    "ms3 = \"EV/EBITDA: {}\".format(multiples_df.loc[indname,'EV/EBITDA'])\n",
    "ms4 = \"PBV: {}\".format(multiples_df.loc[indname,'PBV'])\n",
    "ms5 = \"EV/Sales: {}\".format(multiples_df.loc[indname,'EV/Sales'])\n",
    "\n",
    "\n",
    "display_df = pd.DataFrame({\n",
    "                            'MARKET':[s1,s2,s3,s4,s5],\n",
    "                            'PROFITABILITY':[ps1,ps2,ps3,ps4,ps5],\n",
    "                            'EFFICIENCY':[es1,es2,es3,es4,es5],\n",
    "                            'RISK':[rs1,rs2,rs3,rs4,rs5],\n",
    "                            'MULTIPLES':[ms1,ms2,ms3,ms4,ms5]\n",
    "                           })\n",
    "pprint(display_df)"
   ]
  },
  {
   "cell_type": "code",
   "execution_count": 12,
   "metadata": {},
   "outputs": [],
   "source": [
    "# Save DataFrame as image (optional, using matplotlib)\n",
    "def df_to_image(df, path='table.png'):\n",
    "    fig, ax = plt.subplots(figsize=(5, len(df)*0.5 + 1))\n",
    "    ax.axis('off')\n",
    "    table = ax.table(cellText=df.values, colLabels=df.columns, loc='center')\n",
    "    table.auto_set_font_size(False)\n",
    "    table.set_fontsize(10)\n",
    "    plt.savefig(path, bbox_inches='tight')\n",
    "    plt.close()\n",
    "\n",
    "table_path = \"table.png\"\n",
    "df_to_image(display_df, table_path)\n"
   ]
  }
 ],
 "metadata": {
  "kernelspec": {
   "display_name": "Python 3",
   "language": "python",
   "name": "python3"
  },
  "language_info": {
   "codemirror_mode": {
    "name": "ipython",
    "version": 3
   },
   "file_extension": ".py",
   "mimetype": "text/x-python",
   "name": "python",
   "nbconvert_exporter": "python",
   "pygments_lexer": "ipython3",
   "version": "3.11.9"
  }
 },
 "nbformat": 4,
 "nbformat_minor": 2
}
