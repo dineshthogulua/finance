{
 "cells": [
  {
   "cell_type": "markdown",
   "metadata": {},
   "source": [
    "# Industry visualization\n",
    "This project is all about helping users understand the charactistics of a given industry and understand them in the context of all industries. It mainly uses Prof. Damodaran's data. Only publicly traded companies in the industry are considered. "
   ]
  },
  {
   "cell_type": "code",
   "execution_count": 1,
   "metadata": {},
   "outputs": [],
   "source": [
    "# Import required libraries\n",
    "import pandas as pd\n",
    "import numpy as np\n",
    "\n",
    "import sys\n",
    "import os\n",
    "\n",
    "sys.path.append(\"../\")\n",
    "from edgar_utils import ticker_to_cik, get_companywide_concepts, get_financial_item\n",
    "from adamodaran_utils import *\n",
    "\n",
    "from pprint import pprint\n",
    "pd.set_option('display.width', 1000)"
   ]
  },
  {
   "cell_type": "code",
   "execution_count": 6,
   "metadata": {},
   "outputs": [
    {
     "name": "stdout",
     "output_type": "stream",
     "text": [
      "                    PBV  EV/ Invested Capital  Current PE  Trailing PE  Forward PE  Price/Sales  EV/Sales  EV/EBITDA    EV/EBIT\n",
      "Industry Name                                                                                                                  \n",
      "Air Transport  2.941324              1.778373   28.715790    17.981924   12.441417     0.550876  1.022212   7.465027  17.630171\n",
      "Apparel        3.136963              2.474594   18.531965    28.054987   21.845891     1.087106  1.413761   9.215376  14.635936\n",
      "2\n"
     ]
    }
   ],
   "source": [
    "data_df = get_ind_multiples(industry_list=['Apparel', 'Air Transport'])\n",
    "pprint(data_df.head())\n",
    "pprint(len(data_df))"
   ]
  },
  {
   "cell_type": "code",
   "execution_count": 16,
   "metadata": {},
   "outputs": [
    {
     "name": "stdout",
     "output_type": "stream",
     "text": [
      "                   Number of firms  Beta  D/E Ratio      UBCC  Cost of Equity  After-tax Cost of Debt  Cost of Capital  % of Money Losing firms\n",
      "Industry Name                                                                                                                                  \n",
      "Advertising                     54  1.34     0.2620  1.119543        0.103705                0.048075         0.092157                 0.777778\n",
      "Aerospace/Defense               67  0.90     0.2279  0.995942        0.084837                0.041475         0.076788                 0.432836\n",
      "Air Transport                   24  1.24     1.0683  0.783627        0.099319                0.048075         0.072851                 0.708333\n",
      "Apparel                         37  0.99     0.4589  0.962945        0.088692                0.043350         0.074430                 0.621622\n",
      "Auto & Truck                    34  1.62     0.2240  1.205260        0.115747                0.048075         0.103365                 0.823529\n"
     ]
    }
   ],
   "source": [
    "# Risk factors\n",
    "data_df = get_adamodar_file(\"betas\")\n",
    "average_beta_colname = data_df.filter(regex=\"^Average\").columns[0] # Extract the column name for Average unlevered Beta corrected for cash \n",
    "data_df.columns = data_df.columns.str.strip()\n",
    "risk_df = data_df[['Number of firms', 'Beta', 'D/E Ratio', average_beta_colname]].rename(columns = {average_beta_colname:'UBCC'})\n",
    "\n",
    "data_df = get_adamodar_file(\"wacc\")\n",
    "cols_of_interest = ['Cost of Equity', 'After-tax Cost of Debt', 'Cost of Capital']\n",
    "risk_df[cols_of_interest] = data_df[cols_of_interest]\n",
    "\n",
    "data_df = get_adamodar_file(\"pedata\")\n",
    "risk_df['% of Money Losing firms'] = data_df['% of Money Losing firms (Trailing)']\n",
    "pprint(risk_df.head())\n"
   ]
  },
  {
   "cell_type": "code",
   "execution_count": 43,
   "metadata": {},
   "outputs": [
    {
     "name": "stdout",
     "output_type": "stream",
     "text": [
      "                       Reveue  Gross Profit     EBITDA          EBIT  Net Income\n",
      "Industry  Name                                                                  \n",
      "Advertising         42768.949     12793.402   7340.853   4810.743013    1282.101\n",
      "Aerospace/Defense  494053.030     84251.971  56673.314  37834.835120   21577.625\n",
      "Air Transport      235530.200     58787.060  29240.129  12869.809560    5209.720\n",
      "Apparel             67822.858     36812.565  10270.019   6518.405518    2021.261\n",
      "Auto & Truck       486262.586     54009.651  36450.790  15604.095120   18343.993\n"
     ]
    }
   ],
   "source": [
    "# Fundamentals\n",
    "data_df = get_adamodar_file(\"DollarUS\")\n",
    "cols_of_interest = ['Revenues ($ millions)', 'Gross Profit ($ millions)', 'EBITDA ($ millions)', 'EBIT (Operating Income) ($ millions)', 'Net Income ( $ millions)']\n",
    "rename_dict = {'Revenues ($ millions)': 'Reveue', \n",
    "               'Gross Profit ($ millions)': 'Gross Profit', \n",
    "               'EBITDA ($ millions)':'EBITDA', \n",
    "               'EBIT (Operating Income) ($ millions)': 'EBIT', \n",
    "               'Net Income ( $ millions)': 'Net Income'} \n",
    "fundamentals_df = data_df[cols_of_interest].rename(columns = rename_dict)\n",
    "print(fundamentals_df.head())"
   ]
  },
  {
   "cell_type": "code",
   "execution_count": null,
   "metadata": {},
   "outputs": [
    {
     "name": "stdout",
     "output_type": "stream",
     "text": [
      "                   Number of firms  Acc Rec/ Sales  Inventory/Sales  Acc Pay/ Sales  Non-cash WC/ Sales\n",
      "Industry Name                                                                                          \n",
      "Advertising                     54        0.543894         0.044978        0.537780            0.032308\n",
      "Aerospace/Defense               67        0.217975         0.287070        0.100070            0.386962\n",
      "Air Transport                   24        0.038431         0.030239        0.057294            0.010804\n",
      "Apparel                         37        0.121144         0.189484        0.098481            0.240094\n",
      "Auto & Truck                    34        0.049562         0.114900        0.149662           -0.019122\n",
      "---------------------------\n",
      "Industry  Name\n",
      "Advertising           29975.547\n",
      "Aerospace/Defense    409801.059\n",
      "Air Transport        176743.140\n",
      "Apparel               31010.293\n",
      "Auto & Truck         432252.935\n",
      "dtype: float64\n",
      "---------------------------\n",
      "                     DSO    DSI    DPO  Revenues per Employee  ($)\n",
      "Industry Name                                                     \n",
      "Advertising        199.0   23.0  280.0                47996.168546\n",
      "Aerospace/Defense   80.0  126.0   44.0                28886.731117\n",
      "Air Transport       14.0   15.0   28.0               322334.281006\n",
      "Apparel             44.0  151.0   79.0                  127.178243\n",
      "Auto & Truck        18.0   47.0   61.0                   47.471540\n"
     ]
    }
   ],
   "source": [
    "# Efficiency\n",
    "data_df = get_adamodar_file(\"wcdata\")\n",
    "\n",
    "efficiency_df = pd.DataFrame(index=data_df.index)\n",
    "efficiency_df['DSO'] = np.round(data_df['Acc Rec/ Sales']*365)\n",
    "cogs_ds = fundamentals_df['Reveue'] - fundamentals_df['Gross Profit']\n",
    "efficiency_df['DSI'] = np.round(data_df['Inventory/Sales']*fundamentals_df['Reveue']*365/cogs_ds)\n",
    "efficiency_df['DPO'] = np.round(data_df['Acc Pay/ Sales']*fundamentals_df['Reveue']*365/cogs_ds)\n",
    "\n",
    "data_df = get_adamodar_file(\"Employee\")\n",
    "cols_of_interest = ['Revenues per Employee  ($)']\n",
    "efficiency_df[cols_of_interest] = data_df[cols_of_interest]\n",
    "pprint(efficiency_df.head())"
   ]
  },
  {
   "cell_type": "code",
   "execution_count": 3,
   "metadata": {},
   "outputs": [
    {
     "name": "stdout",
     "output_type": "stream",
     "text": [
      "                   Gross Margin  Net Margin  After-tax Lease & R&D adj Margin  EBITDA/Sales  R&D/Sales  SG&A/ Sales       ROE  (ROE - COE)       ROC  (ROC - WACC)           EVA\n",
      "Industry Name                                                                                                                                                                   \n",
      "Advertising            0.299128    0.029977                          0.105336      0.137176   0.021491     0.135697  0.118527     0.014822  0.349131      0.256974   3315.934043\n",
      "Aerospace/Defense      0.170532    0.043675                          0.070255      0.112247   0.040800     0.071603  0.119410     0.034573  0.140254      0.063465  15706.213973\n",
      "Air Transport          0.249595    0.022119                          0.049501      0.110310   0.003806     0.037423  0.132719     0.033400  0.084764      0.011913   1638.535109\n",
      "Apparel                0.542775    0.029802                          0.088433      0.117890   0.001135     0.453209  0.084666    -0.004025  0.152562      0.078132   3071.684152\n",
      "Auto & Truck           0.111071    0.037724                          0.032439      0.070368   0.053203     0.063812  0.092659    -0.023088  0.031539     -0.071826 -35923.073918\n",
      "---------------------------\n"
     ]
    }
   ],
   "source": [
    "# Performance measures\n",
    "data_df = get_adamodar_file(\"margin\")\n",
    "cols_of_interest = ['Gross Margin', 'Net Margin', 'After-tax Lease & R&D adj Margin', 'EBITDA/Sales','R&D/Sales', 'SG&A/ Sales']\n",
    "performance_df = data_df[cols_of_interest]\n",
    "\n",
    "data_df = get_adamodar_file(\"EVA\")\n",
    "cols_of_interest = ['ROE', '(ROE - COE)', 'ROC', '(ROC - WACC)', 'EVA (US $ millions)']\n",
    "rename_dict = {'EVA (US $ millions)': 'EVA'}\n",
    "temp_df = data_df[cols_of_interest].rename(columns = rename_dict)\n",
    "performance_df[temp_df.columns] = temp_df[temp_df.columns]\n",
    "print(performance_df.head())\n",
    "print(\"---------------------------\")\n"
   ]
  },
  {
   "cell_type": "code",
   "execution_count": 80,
   "metadata": {},
   "outputs": [
    {
     "name": "stdout",
     "output_type": "stream",
     "text": [
      "                   Net Income CAGR (past 5y)  Revenue CAGR (past 5y)  Revenue CAGR (next 2y)  Revenue CAGR (next 5y)\n",
      "Industry Name                                                                                                       \n",
      "Advertising                         0.174275               -0.016177                0.090254                0.072864\n",
      "Aerospace/Defense                   0.034865                0.082055                0.117000                0.124394\n",
      "Air Transport                      -0.035889                0.026369                0.382927                0.530995\n",
      "Apparel                            -0.035919                0.069669                0.001860                0.023173\n",
      "Auto & Truck                        0.083675                0.108952                0.966848                0.351925\n"
     ]
    }
   ],
   "source": [
    "data_df = get_adamodar_file(\"histgr\")\n",
    "cols_of_interest = ['CAGR in Net Income- Last 5 years', 'CAGR in Revenues- Last 5 years', 'Expected Growth in Revenues - Next 2 years', 'Expected Growth in Revenues - Next 5 years']\n",
    "rename_dict = {'CAGR in Net Income- Last 5 years': 'Net Income CAGR (past 5y)',\n",
    "               'CAGR in Revenues- Last 5 years':'Revenue CAGR (past 5y)',\n",
    "               'Expected Growth in Revenues - Next 2 years': 'Revenue CAGR (next 2y)',\n",
    "               'Expected Growth in Revenues - Next 5 years': 'Revenue CAGR (next 5y)'}\n",
    "demand_df = data_df[cols_of_interest].rename(columns = rename_dict)\n",
    "\n",
    "pprint(demand_df.head())"
   ]
  },
  {
   "cell_type": "code",
   "execution_count": 17,
   "metadata": {},
   "outputs": [
    {
     "name": "stdout",
     "output_type": "stream",
     "text": [
      "                        PBV  EV/ Invested Capital  Current PE  Trailing PE  Forward PE  Price/Sales  EV/Sales  EV/EBITDA     EV/EBIT\n",
      "Industry Name                                                                                                                       \n",
      "Advertising        6.976657              8.294943  514.369727   291.270179   73.711931     2.334685  2.753032  15.557573   24.270405\n",
      "Aerospace/Defense  6.825577              5.383927   39.163388    87.417779   35.067972     2.206060  2.604180  17.237956   28.387133\n",
      "Air Transport      2.941324              1.778373   28.715790    17.981924   12.441417     0.550876  1.022212   7.465027   17.630171\n",
      "Apparel            3.136963              2.474594   18.531965    28.054987   21.845891     1.087106  1.413761   9.215376   14.635936\n",
      "Auto & Truck       6.854352              3.112769   31.424978    27.282768   29.802240     2.938045  3.469955  37.443235  106.522279\n"
     ]
    }
   ],
   "source": [
    "# Multiples\n",
    "data_df = get_adamodar_file(\"pbvdata\")\n",
    "cols_of_interest = ['PBV', 'EV/ Invested Capital']\n",
    "multiples_df = data_df[cols_of_interest]\n",
    "\n",
    "data_df = get_adamodar_file(\"pedata\")\n",
    "cols_of_interest = ['Current PE', 'Trailing PE', 'Forward PE']\n",
    "multiples_df[cols_of_interest] = data_df[cols_of_interest]\n",
    "\n",
    "data_df = get_adamodar_file(\"psdata\")\n",
    "cols_of_interest = ['Price/Sales', 'EV/Sales']\n",
    "multiples_df[cols_of_interest] = data_df[cols_of_interest]\n",
    "\n",
    "data_df = get_adamodar_file(\"vebitda\")\n",
    "cols_of_interest = [('Only positive EBITDA firms', 'EV/EBITDA'), ('Only positive EBITDA firms', 'EV/EBITDA')]\n",
    "\n",
    "multiples_df['EV/EBITDA'] = data_df[('Only positive EBITDA firms', 'EV/EBITDA')]\n",
    "multiples_df['EV/EBIT'] = data_df[('Only positive EBITDA firms', 'EV/EBIT')]\n",
    "pprint(multiples_df.head())\n",
    "# print(\"---------------------------\")\n"
   ]
  }
 ],
 "metadata": {
  "kernelspec": {
   "display_name": "Python 3",
   "language": "python",
   "name": "python3"
  },
  "language_info": {
   "codemirror_mode": {
    "name": "ipython",
    "version": 3
   },
   "file_extension": ".py",
   "mimetype": "text/x-python",
   "name": "python",
   "nbconvert_exporter": "python",
   "pygments_lexer": "ipython3",
   "version": "3.11.9"
  }
 },
 "nbformat": 4,
 "nbformat_minor": 2
}
