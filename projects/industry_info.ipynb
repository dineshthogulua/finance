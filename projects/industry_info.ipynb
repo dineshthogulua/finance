{
 "cells": [
  {
   "cell_type": "markdown",
   "metadata": {},
   "source": [
    "# Industry visualization\n",
    "This project is all about helping users understand the charactistics of a given industry and understand them in the context of all industries. It mainly uses Prof. Damodaran's data. Only publicly traded companies in the industry are considered. "
   ]
  },
  {
   "cell_type": "code",
   "execution_count": 1,
   "metadata": {},
   "outputs": [],
   "source": [
    "# Import required libraries\n",
    "import pandas as pd\n",
    "import numpy as np\n",
    "\n",
    "import sys\n",
    "import os\n",
    "\n",
    "sys.path.append(\"../\")\n",
    "from edgar_utils import ticker_to_cik, get_companywide_concepts, get_financial_item\n",
    "from adamodaran_utils import *\n",
    "\n",
    "from pprint import pprint\n",
    "pd.set_option('display.width', 1000)"
   ]
  },
  {
   "cell_type": "code",
   "execution_count": 30,
   "metadata": {},
   "outputs": [
    {
     "name": "stdout",
     "output_type": "stream",
     "text": [
      "['Computer Services', 'Computers/Peripherals']\n"
     ]
    }
   ],
   "source": [
    "ind_list = get_industry_list()\n",
    "filtered_list = [s for s in ind_list if s.lower().startswith('computer')]\n",
    "print(filtered_list)"
   ]
  },
  {
   "cell_type": "markdown",
   "metadata": {},
   "source": []
  },
  {
   "cell_type": "code",
   "execution_count": 8,
   "metadata": {},
   "outputs": [
    {
     "name": "stdout",
     "output_type": "stream",
     "text": [
      "                                                 company     industry                  sector  SIC Code        Country  exchange ticker\n",
      "41022                The Trade Desk, Inc. (NasdaqGM:TTD)  Advertising  Communication Services      7370  United States  NasdaqGM    TTD\n",
      "41023                      Omnicom Group Inc. (NYSE:OMC)  Advertising  Communication Services      7311  United States      NYSE    OMC\n",
      "41024  The Interpublic Group of Companies, Inc. (NYSE...  Advertising  Communication Services      7311  United States      NYSE    IPG\n",
      "41025                      Magnite, Inc. (NasdaqGS:MGNI)  Advertising  Communication Services      7310  United States  NasdaqGS   MGNI\n",
      "41026                           Ibotta, Inc. (NYSE:IBTA)  Advertising  Communication Services      7310  United States      NYSE   IBTA\n"
     ]
    }
   ],
   "source": [
    "ind_df = get_industry_df()\n",
    "pprint(ind_df.head())"
   ]
  },
  {
   "cell_type": "code",
   "execution_count": 13,
   "metadata": {},
   "outputs": [
    {
     "name": "stdout",
     "output_type": "stream",
     "text": [
      "                                                company industry                  sector  SIC Code        Country  exchange ticker\n",
      "41167                         Tapestry, Inc. (NYSE:TPR)  Apparel  Consumer Discretionary      3100  United States      NYSE    TPR\n",
      "41168                Ralph Lauren Corporation (NYSE:RL)  Apparel  Consumer Discretionary      2300  United States      NYSE     RL\n",
      "41169                       V.F. Corporation (NYSE:VFC)  Apparel  Consumer Discretionary      2300  United States      NYSE    VFC\n",
      "41170                    Levi Strauss & Co. (NYSE:LEVI)  Apparel  Consumer Discretionary      2300  United States      NYSE   LEVI\n",
      "41171                              PVH Corp. (NYSE:PVH)  Apparel  Consumer Discretionary      2300  United States      NYSE    PVH\n",
      "41172       Columbia Sportswear Company (NasdaqGS:COLM)  Apparel  Consumer Discretionary      2300  United States  NasdaqGS   COLM\n",
      "41173                   Kontoor Brands, Inc. (NYSE:KTB)  Apparel  Consumer Discretionary      2300  United States      NYSE    KTB\n",
      "41174                     Under Armour, Inc. (NYSE:UAA)  Apparel  Consumer Discretionary      2300  United States      NYSE    UAA\n",
      "41175                       Hanesbrands Inc. (NYSE:HBI)  Apparel  Consumer Discretionary      2300  United States      NYSE    HBI\n",
      "41176                         Carter's, Inc. (NYSE:CRI)  Apparel  Consumer Discretionary      2300  United States      NYSE    CRI\n",
      "41177         G-III Apparel Group, Ltd. (NasdaqGS:GIII)  Apparel  Consumer Discretionary      2300  United States  NasdaqGS   GIII\n",
      "41178                Oxford Industries, Inc. (NYSE:OXM)  Apparel  Consumer Discretionary      2300  United States      NYSE    OXM\n",
      "41179                            FIGS, Inc. (NYSE:FIGS)  Apparel  Consumer Discretionary      2300  United States      NYSE   FIGS\n",
      "41180                     Movado Group, Inc. (NYSE:MOV)  Apparel  Consumer Discretionary      3873  United States      NYSE    MOV\n",
      "41181  Superior Group of Companies, Inc. (NasdaqGM:SGC)  Apparel  Consumer Discretionary      2300  United States  NasdaqGM    SGC\n",
      "41182         Lakeland Industries, Inc. (NasdaqGM:LAKE)  Apparel  Consumer Discretionary      3842  United States  NasdaqGM   LAKE\n",
      "41183                  PLBY Group, Inc. (NasdaqGM:PLBY)  Apparel  Consumer Discretionary      2300  United States  NasdaqGM   PLBY\n",
      "41184                            Unifi, Inc. (NYSE:UFI)  Apparel  Consumer Discretionary      2200  United States      NYSE    UFI\n",
      "41185                 Vera Bradley, Inc. (NasdaqGS:VRA)  Apparel  Consumer Discretionary      3100  United States  NasdaqGS    VRA\n",
      "41186                Fossil Group, Inc. (NasdaqGS:FOSL)  Apparel  Consumer Discretionary      3873  United States  NasdaqGS   FOSL\n",
      "41187                            Culp, Inc. (NYSE:CULP)  Apparel  Consumer Discretionary      2211  United States      NYSE   CULP\n",
      "41188                Crown Crafts, Inc. (NasdaqCM:CRWS)  Apparel  Consumer Discretionary      2211  United States  NasdaqCM   CRWS\n",
      "41189                   Vince Holding Corp. (NYSE:VNCE)  Apparel  Consumer Discretionary      2300  United States      NYSE   VNCE\n",
      "41190        Jerash Holdings (US), Inc. (NasdaqCM:JRSH)  Apparel  Consumer Discretionary      2300  United States  NasdaqCM   JRSH\n",
      "41194          Forward Industries, Inc. (NasdaqCM:FORD)  Apparel  Consumer Discretionary      5047  United States  NasdaqCM   FORD\n",
      "41196           Charles & Colvard, Ltd. (NasdaqCM:CTHR)  Apparel  Consumer Discretionary      3290  United States  NasdaqCM   CTHR\n",
      "41200                  MGO Global, Inc. (NasdaqCM:MGOL)  Apparel  Consumer Discretionary      5961  United States  NasdaqCM   MGOL\n"
     ]
    }
   ],
   "source": [
    "print(ind_df[ind_df.industry==\"Apparel\"])"
   ]
  },
  {
   "cell_type": "code",
   "execution_count": 7,
   "metadata": {},
   "outputs": [
    {
     "ename": "IndexError",
     "evalue": "index 0 is out of bounds for axis 0 with size 0",
     "output_type": "error",
     "traceback": [
      "\u001b[1;31m---------------------------------------------------------------------------\u001b[0m",
      "\u001b[1;31mIndexError\u001b[0m                                Traceback (most recent call last)",
      "Cell \u001b[1;32mIn[7], line 3\u001b[0m\n\u001b[0;32m      1\u001b[0m \u001b[38;5;66;03m# company_ticker = \"CMG\"\u001b[39;00m\n\u001b[0;32m      2\u001b[0m company_ticker \u001b[38;5;241m=\u001b[39m \u001b[38;5;124m\"\u001b[39m\u001b[38;5;124mLULU\u001b[39m\u001b[38;5;124m\"\u001b[39m\n\u001b[1;32m----> 3\u001b[0m indname \u001b[38;5;241m=\u001b[39m \u001b[43mind_df\u001b[49m\u001b[43m[\u001b[49m\u001b[43mind_df\u001b[49m\u001b[43m[\u001b[49m\u001b[38;5;124;43m'\u001b[39;49m\u001b[38;5;124;43mticker\u001b[39;49m\u001b[38;5;124;43m'\u001b[39;49m\u001b[43m]\u001b[49m\u001b[38;5;241;43m==\u001b[39;49m\u001b[43mcompany_ticker\u001b[49m\u001b[43m]\u001b[49m\u001b[38;5;241;43m.\u001b[39;49m\u001b[43mindustry\u001b[49m\u001b[38;5;241;43m.\u001b[39;49m\u001b[43mvalues\u001b[49m\u001b[43m[\u001b[49m\u001b[38;5;241;43m0\u001b[39;49m\u001b[43m]\u001b[49m\n\u001b[0;32m      4\u001b[0m \u001b[38;5;28mprint\u001b[39m(\u001b[38;5;124m\"\u001b[39m\u001b[38;5;124mIndustry of \u001b[39m\u001b[38;5;132;01m{}\u001b[39;00m\u001b[38;5;124m: \u001b[39m\u001b[38;5;132;01m{}\u001b[39;00m\u001b[38;5;124m\"\u001b[39m\u001b[38;5;241m.\u001b[39mformat(company_ticker, indname))\n\u001b[0;32m      5\u001b[0m \u001b[38;5;28mprint\u001b[39m(\u001b[38;5;124m\"\u001b[39m\u001b[38;5;124m----------------------------\u001b[39m\u001b[38;5;124m\"\u001b[39m)\n",
      "\u001b[1;31mIndexError\u001b[0m: index 0 is out of bounds for axis 0 with size 0"
     ]
    }
   ],
   "source": [
    "# company_ticker = \"CMG\"\n",
    "company_ticker = \"LULU\"\n",
    "indname = ind_df[ind_df['ticker']==company_ticker].industry.values[0]\n",
    "print(\"Industry of {}: {}\".format(company_ticker, indname))\n",
    "print(\"----------------------------\")\n",
    "companies = ind_df[ind_df['industry']==indname].company.values\n",
    "# print(\"\\n\")\n",
    "print(\"List of companies in this industry:\")\n",
    "print(\"----------------------------\")\n",
    "print(companies)"
   ]
  },
  {
   "cell_type": "code",
   "execution_count": 14,
   "metadata": {},
   "outputs": [],
   "source": [
    "# indname = 'Total Market (without financials)'\n",
    "indname = 'Apparel'\n",
    "demand_df = get_ind_demand(industry_list=[indname])\n",
    "fundamentals_df = get_ind_fundamentals(industry_list=[indname])\n",
    "profitability_df = get_ind_profitability(industry_list=[indname])\n",
    "efficiency_df = get_ind_efficiency(industry_list=[indname])\n",
    "risk_df = get_ind_risk(industry_list=[indname])\n",
    "multiples_df = get_ind_multiples(industry_list=[indname])"
   ]
  },
  {
   "cell_type": "code",
   "execution_count": null,
   "metadata": {},
   "outputs": [
    {
     "name": "stdout",
     "output_type": "stream",
     "text": [
      "-----------------------------------------\n",
      " RESTAURANT/DINING INDUSTRY\n",
      "-----------------------------------------\n",
      "                MARKET      PROFITABILITY           EFFICIENCY              RISK          MULTIPLES\n",
      "0  Market_size: $168 B  Gross Margin: 33%  Receivable days: 18  No. of firms: 62  Current PE: 154.9\n",
      "1   Past CAGR (5y): 9%   EBIT Margin: 13%   Inventory days: 11         Beta: 1.1   Forward PE: 38.9\n",
      "2  Next CAGR (2y): 10%    Net Margin: 11%     Payable days: 24         D/E: 23.0    EV/EBITDA: 18.7\n",
      "3  Next CAGR (5y): 17%           ROC: 20%                                                  PBV: nan\n",
      "4                                 ROE: 0%                                             EV/Sales: 4.5\n"
     ]
    }
   ],
   "source": [
    "print(\"-----------------------------------------\")\n",
    "print(\" {} INDUSTRY\".format(indname.upper()))\n",
    "print(\"-----------------------------------------\")\n",
    "\n",
    "s1 = \"Market_size: ${} B\".format(fundamentals_df.loc[indname,'Revenue'])\n",
    "s2 = \"Past CAGR (5y): {}%\".format(demand_df.loc[indname, 'Revenue CAGR (past 5y)'])\n",
    "s3 = \"Next CAGR (2y): {}%\".format(demand_df.loc[indname, 'Revenue CAGR (next 2y)'])\n",
    "s4 = \"Next CAGR (5y): {}%\".format(demand_df.loc[indname, 'Revenue CAGR (next 5y)'])\n",
    "s5 = \"\"\n",
    "\n",
    "ps1 = \"Gross Margin: {}%\".format(profitability_df.loc[indname,'Gross Margin'])\n",
    "ps2 = \"EBIT Margin: {}%\".format(profitability_df.loc[indname,'EBIT Margin'])\n",
    "ps3 = \"Net Margin: {}%\".format(profitability_df.loc[indname,'Net Margin'])\n",
    "ps4 = \"ROC: {}%\".format(profitability_df.loc[indname,'ROC'])\n",
    "ps5 = \"ROE: {}%\".format(profitability_df.loc[indname,'ROE'])\n",
    "\n",
    "es1 = \"Receivable days: {}\".format(np.int64(efficiency_df.loc[indname,'DSO']))\n",
    "es2 = \"Inventory days: {}\".format(np.int64(efficiency_df.loc[indname,'DSI']))\n",
    "es3 = \"Payable days: {}\".format(np.int64(efficiency_df.loc[indname,'DPO']))\n",
    "es4 = \"\"\n",
    "es5 = \"\"\n",
    "\n",
    "rs1 = \"No. of firms: {}\".format(risk_df.loc[indname,'Number of firms'])\n",
    "rs2 = \"Beta: {}\".format(risk_df.loc[indname,'Beta'])\n",
    "rs3 = \"D/E: {}\".format(risk_df.loc[indname,'D/E'])\n",
    "rs4 = \"\"\n",
    "rs5 = \"\"\n",
    "\n",
    "ms1 = \"Current PE: {}\".format(multiples_df.loc[indname,'Current PE'])\n",
    "ms2 = \"Forward PE: {}\".format(multiples_df.loc[indname,'Forward PE'])\n",
    "ms3 = \"EV/EBITDA: {}\".format(multiples_df.loc[indname,'EV/EBITDA'])\n",
    "ms4 = \"PBV: {}\".format(multiples_df.loc[indname,'PBV'])\n",
    "ms5 = \"EV/Sales: {}\".format(multiples_df.loc[indname,'EV/Sales'])\n",
    "\n",
    "\n",
    "display_df = pd.DataFrame({\n",
    "                            'MARKET':[s1,s2,s3,s4,s5],\n",
    "                            'PROFITABILITY':[ps1,ps2,ps3,ps4,ps5],\n",
    "                            'EFFICIENCY':[es1,es2,es3,es4,es5],\n",
    "                            'RISK':[rs1,rs2,rs3,rs4,rs5],\n",
    "                            'MULTIPLES':[ms1,ms2,ms3,ms4,ms5]\n",
    "                           })\n",
    "pprint(display_df)"
   ]
  },
  {
   "cell_type": "code",
   "execution_count": null,
   "metadata": {},
   "outputs": [],
   "source": []
  }
 ],
 "metadata": {
  "kernelspec": {
   "display_name": "Python 3",
   "language": "python",
   "name": "python3"
  },
  "language_info": {
   "codemirror_mode": {
    "name": "ipython",
    "version": 3
   },
   "file_extension": ".py",
   "mimetype": "text/x-python",
   "name": "python",
   "nbconvert_exporter": "python",
   "pygments_lexer": "ipython3",
   "version": "3.11.9"
  }
 },
 "nbformat": 4,
 "nbformat_minor": 2
}
