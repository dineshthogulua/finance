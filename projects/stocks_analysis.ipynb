{
 "cells": [
  {
   "cell_type": "markdown",
   "metadata": {},
   "source": [
    "### Stocks Analysis\n",
    "What factors make for a successful stock investment? This code is an attempt to answer this simple question. I find the best performing stocks in a period and see if I can find clues in their fundamentals that make them successful stocks. \n"
   ]
  },
  {
   "cell_type": "code",
   "execution_count": 11,
   "metadata": {},
   "outputs": [],
   "source": [
    "# Import required libraries\n",
    "import pandas as pd\n",
    "import numpy as np\n",
    "import random\n",
    "import yfinance as yf\n",
    "from datetime import datetime, timedelta\n",
    "from requests import Session\n",
    "from requests_cache import CacheMixin, SQLiteCache\n",
    "from requests_ratelimiter import LimiterMixin, MemoryQueueBucket\n",
    "from pyrate_limiter import Duration, RequestRate, Limiter\n",
    "import sys\n",
    "import os\n",
    "\n",
    "sys.path.append(\"../\")\n",
    "from edgar_utils import ticker_to_cik, get_companywide_concepts, get_financial_item\n",
    "from adamodaran_utils import get_industry_list, get_industry_df\n",
    "\n",
    "from pprint import pprint"
   ]
  },
  {
   "cell_type": "code",
   "execution_count": 12,
   "metadata": {},
   "outputs": [],
   "source": [
    "# Set up the environment\n",
    "yf.set_tz_cache_location(\"../cache/yfinance1\")\n",
    "pd.set_option('display.width', 1000)\n",
    "class CachedLimiterSession(CacheMixin, LimiterMixin, Session):\n",
    "   pass\n",
    "\n",
    "session = CachedLimiterSession(\n",
    "   limiter=Limiter(RequestRate(2, Duration.SECOND*5)),  # max 2 requests per 5 seconds\n",
    "   bucket_class=MemoryQueueBucket,\n",
    "   backend=SQLiteCache(\"../cache/yfinance/yfinance.cache\"),\n",
    ")\n",
    "session.headers['User-agent'] = 'my-program/1.0'"
   ]
  },
  {
   "cell_type": "code",
   "execution_count": 13,
   "metadata": {},
   "outputs": [],
   "source": [
    "# get_historical_returns ---------------------------------------------------------------------------------------------------------------\n",
    "#   Returns the total anualized returns in percentage for a given ticker and no. of years. The no. of years defaults to 10\n",
    "# --------------------------------------------------------------------------------------------------------------------------------------\n",
    "def get_historical_returns(ticker, interval = \"3mo\", no_of_years = 10):\n",
    "    try:\n",
    "        price_df = yf.download(ticker, period=\"1d\", session=session,progress=False)\n",
    "        if price_df.empty:\n",
    "            return(None)\n",
    "    except:\n",
    "        return(None)\n",
    "    end_date = price_df.index[0]\n",
    "    start_date = end_date - pd.DateOffset(years=no_of_years+1)  # We need 11 years of data to be able to calculate 10 years of returns\n",
    "\n",
    "    try:\n",
    "        data = yf.download(ticker, start=start_date, end=end_date, interval=interval, progress=False, auto_adjust=False)\n",
    "        if data.empty:\n",
    "            return(None)\n",
    "    except:\n",
    "        return(None)\n",
    "    price_data = data['Adj Close'].resample(\"YE\").last()\n",
    "    total_annual_return = price_data.pct_change()*100\n",
    "    total_annual_return.drop(index=total_annual_return.index[0], inplace=True)\n",
    "    return(total_annual_return)"
   ]
  },
  {
   "cell_type": "code",
   "execution_count": 14,
   "metadata": {},
   "outputs": [],
   "source": [
    "# get_historical_adj_prices ---------------------------------------------------------------------------------------------------------------\n",
    "#   Returns the adjusted stock prices. The no. of years defaults to 10\n",
    "# --------------------------------------------------------------------------------------------------------------------------------------\n",
    "def get_investment_growth(ticker, no_of_years = 10):\n",
    "    try:\n",
    "        price_df = yf.download(ticker, period=\"1d\", session=session,progress=False)\n",
    "        if price_df.empty:\n",
    "            return(None)\n",
    "    except:\n",
    "        return(None)\n",
    "    end_date = price_df.index[0]\n",
    "    start_date = end_date - pd.DateOffset(years=no_of_years+1)  # We need 11 years of data to be able to calculate 10 years of returns\n",
    "\n",
    "    try:\n",
    "        data = yf.download(ticker, start=start_date, end=end_date, interval=\"1wk\", progress=False, auto_adjust=False)\n",
    "        if data.empty:\n",
    "            return(None)\n",
    "    except:\n",
    "        return(None)\n",
    "    price_data = data['Adj Close'].resample(\"W\").last()\n",
    "    price_data = 100*price_data/price_data.iloc[0]\n",
    "    price_data.rename(ticker, inplace=True)\n",
    "    return(price_data)\n"
   ]
  },
  {
   "cell_type": "markdown",
   "metadata": {},
   "source": [
    "### Calculating total return\n",
    "We want to calculate the stock return taking into account dividends paid. One way to do this is to assume that the dividends were reinvested into the stock. Suppose a stock at the beginning of the year was $24 and became $28 at the end of the year, but a dividend of $0.08 was paid in-between right after a day when the closing price was $24.95, then the total return is:\n",
    "\n",
    "$$\n",
    "\\begin{align*}\n",
    "r   &= \\left( \\dfrac{28 + 0.08\\times\\dfrac{28}{24.95}}{24} \\right) - 1\\\\\n",
    "    &= \\dfrac{28}{24} \\left( 1+\\dfrac{0.08}{24.95} \\right) - 1\n",
    "\\end{align*}\n",
    "$$\n",
    "\n",
    "[Yahoo does adjustments for splits and dividends](https://help.yahoo.com/kb/SLN28256.html?guccounter=1&guce_referrer=aHR0cHM6Ly93d3cuZ29vZ2xlLmNvbS8&guce_referrer_sig=AQAAAFje9jIInmwS1WuWOB8yCrrcQlQRzvnHwPb5JwJpM1bB1pkpLUJKuEJznLZB5S-h_4mj4LuRqTGEM5tAqHESlWTLoXyOQXkGyDDM5kTt3mPBN-Na57XBw5hd6yahp3J1C1nfuHQgpt1y4TuuKKuCdWr6DQWRUPxiJWpAuQKcPCmU) and provides data called \"Adj Close\" price. It is quite easy to understand how they adjust for splits. But the way they adjust for dividends is a little different. When a dividend is paid, they calculate how much of the stock price (based on prev day closing price) that dividend represented. Say it is 0.2%. They take away 0.2% from all the prices preceding that dividend payment. What they are effectively saying is that, the original stock prices before the dividend contained two parts - one that is 99.8% of it that remains in the stock and a 0.2% part that eventually got paid out as a dividend. In other words, their return, if calculated using their \"Adj Close\" would be[^1]:\n",
    "\n",
    "$$\n",
    "\\hat{r} = \\left( \\dfrac{28}{24\\times\\left(1-\\dfrac{0.08}{24.95}\\right)} \\right) - 1\n",
    "$$\n",
    "\n",
    "The two methods aren't very different if the dividend amount is small. In this case, it represents 0.32%. You can see this by multplying the numerator and denominator in my return calculation by $\\left(1-\\frac{0.08}{24.95}\\right)$.\n",
    "\n",
    "$$\n",
    "\\begin{align*}\n",
    "r   &= \\dfrac{28}{24} \\left( 1+\\dfrac{0.08}{24.95} \\right) - 1 \\\\\n",
    "    &= \\dfrac{28}{24} \\left(\\dfrac{1-\\dfrac{0.08}{24.95}}{1-\\dfrac{0.08}{24.95}}\\right) \\left( 1+\\dfrac{0.08}{24.95} \\right) - 1 \\\\\n",
    "    &= \\left( \\dfrac{28}{24\\times\\left(1-\\dfrac{0.08}{24.95}\\right)} \\right) \\left(1^2-\\left(\\dfrac{0.08}{24.95} \\right)^2 \\right) - 1 \\\\\n",
    "    &= \\hat{r}(1-0.00001024) \\\\\n",
    "    &\\approx \\hat{r}\n",
    "\\end{align*}\n",
    "$$\n",
    "\n",
    "For our purposes, using \"Adj. Close\" is sufficient. \n",
    "\n",
    "[^1]: Note that there is a major typo in the Yahoo page: They used $24.95 as the denominator instead of $24.95. But if you expand the \"Multipliers\" section, it is quite clear they meant to use $24.95. Also, they don't use a 1 year starting price of $24 that I have used. I thought using a 1 year return would be intuitive."
   ]
  },
  {
   "cell_type": "code",
   "execution_count": 7,
   "metadata": {},
   "outputs": [],
   "source": [
    "COMPARISON_YEARS = 2"
   ]
  },
  {
   "cell_type": "code",
   "execution_count": null,
   "metadata": {},
   "outputs": [],
   "source": [
    "\n",
    "# Randomly select an industry and get a list of companies\n",
    "ind_list = get_industry_list()\n",
    "ind_list_sample = random.sample(list(ind_list), 1)\n",
    "print(\"Industry(ies): {}\".format(ind_list_sample))\n",
    "companies_list = get_industry_df(ind_list_sample).set_index('ticker')\n",
    "\n",
    "# Find all the companies that beat S&P500 7 or more years in the last 10 years\n",
    "benchmark_total_annual_return = get_historical_returns(\"SPY\", no_of_years=COMPARISON_YEARS)\n",
    "shortlisted_tickers = []\n",
    "for ticker in companies_list.index:\n",
    "    print(ticker)\n",
    "    total_annual_return = get_historical_returns(ticker, no_of_years=COMPARISON_YEARS)\n",
    "    if total_annual_return is None:\n",
    "        continue\n",
    "    diff_return = total_annual_return - benchmark_total_annual_return\n",
    "    companies_list.loc[ticker, 'alpha'] = ((1 + total_annual_return / 100).prod() - (1 + benchmark_total_annual_return / 100).prod())*100\n",
    "    positive_returns = diff_return[diff_return>0]\n",
    "    if positive_returns.count() >= (COMPARISON_YEARS*0.7):    # Arbitrary criterion for declearing a stock is a good stock\n",
    "        shortlisted_tickers.append(ticker)\n",
    "print(\"Shortlist: {}\".format(shortlisted_tickers))"
   ]
  },
  {
   "cell_type": "code",
   "execution_count": 6,
   "metadata": {},
   "outputs": [],
   "source": [
    "shortlisted_companies = companies_list[companies_list.index.isin(shortlisted_tickers)]\n",
    "shortlisted_companies\n",
    "if os.path.isfile(\"shortlisted_companies.csv\"):\n",
    "    shortlisted_companies.to_csv(\"shortlisted_companies.csv\", mode=\"a\", header=False)\n",
    "else:\n",
    "    shortlisted_companies.to_csv(\"shortlisted_companies.csv\", header=True)"
   ]
  },
  {
   "cell_type": "code",
   "execution_count": 15,
   "metadata": {},
   "outputs": [
    {
     "name": "stderr",
     "output_type": "stream",
     "text": [
      "\n",
      "1 Failed download:\n",
      "['CROX']: YFRateLimitError('Too Many Requests. Rate limited. Try after a while.')\n",
      "\n",
      "1 Failed download:\n",
      "['SPY']: YFRateLimitError('Too Many Requests. Rate limited. Try after a while.')\n"
     ]
    },
    {
     "ename": "TypeError",
     "evalue": "unsupported operand type(s) for -: 'NoneType' and 'NoneType'",
     "output_type": "error",
     "traceback": [
      "\u001b[1;31m---------------------------------------------------------------------------\u001b[0m",
      "\u001b[1;31mTypeError\u001b[0m                                 Traceback (most recent call last)",
      "Cell \u001b[1;32mIn[15], line 10\u001b[0m\n\u001b[0;32m      6\u001b[0m total_annual_return \u001b[38;5;241m=\u001b[39m get_historical_returns(ticker, no_of_years\u001b[38;5;241m=\u001b[39mCOMPARISON_YEARS)\n\u001b[0;32m      8\u001b[0m benchmark_total_annual_return \u001b[38;5;241m=\u001b[39m get_historical_returns(\u001b[38;5;124m\"\u001b[39m\u001b[38;5;124mSPY\u001b[39m\u001b[38;5;124m\"\u001b[39m, no_of_years\u001b[38;5;241m=\u001b[39mCOMPARISON_YEARS)\n\u001b[1;32m---> 10\u001b[0m diff_return \u001b[38;5;241m=\u001b[39m \u001b[43mtotal_annual_return\u001b[49m\u001b[43m \u001b[49m\u001b[38;5;241;43m-\u001b[39;49m\u001b[43m \u001b[49m\u001b[43mbenchmark_total_annual_return\u001b[49m\n\u001b[0;32m     11\u001b[0m total_return \u001b[38;5;241m=\u001b[39m ((\u001b[38;5;241m1\u001b[39m \u001b[38;5;241m+\u001b[39m total_annual_return \u001b[38;5;241m/\u001b[39m \u001b[38;5;241m100\u001b[39m)\u001b[38;5;241m.\u001b[39mprod() \u001b[38;5;241m-\u001b[39m \u001b[38;5;241m1\u001b[39m)\u001b[38;5;241m*\u001b[39m\u001b[38;5;241m100\u001b[39m\n\u001b[0;32m     12\u001b[0m pprint((\u001b[38;5;241m1\u001b[39m \u001b[38;5;241m+\u001b[39m total_annual_return \u001b[38;5;241m/\u001b[39m \u001b[38;5;241m100\u001b[39m)\u001b[38;5;241m.\u001b[39mprod())\n",
      "\u001b[1;31mTypeError\u001b[0m: unsupported operand type(s) for -: 'NoneType' and 'NoneType'"
     ]
    }
   ],
   "source": [
    "# Research individual companies. The following code is mainly for debugging\n",
    "import matplotlib.pyplot as plt\n",
    "\n",
    "ticker = \"CROX\"\n",
    "\n",
    "total_annual_return = get_historical_returns(ticker, no_of_years=COMPARISON_YEARS)\n",
    "\n",
    "benchmark_total_annual_return = get_historical_returns(\"SPY\", no_of_years=COMPARISON_YEARS)\n",
    "\n",
    "diff_return = total_annual_return - benchmark_total_annual_return\n",
    "total_return = ((1 + total_annual_return / 100).prod() - 1)*100\n",
    "pprint((1 + total_annual_return / 100).prod())\n",
    "pprint((1 + benchmark_total_annual_return / 100).prod())\n",
    "\n",
    "total_benchmark_return = ((1 + benchmark_total_annual_return / 100).prod() - 1)*100\n",
    "alpha = ((1 + total_annual_return / 100).prod() - (1 + benchmark_total_annual_return / 100).prod())*100\n",
    "positive_returns = diff_return[diff_return>0]\n",
    "\n",
    "# Display\n",
    "tempdf = pd.DataFrame(index=total_annual_return.index)  # Just for a better display\n",
    "tempdf[ticker] = total_annual_return\n",
    "tempdf['benchmark'] = benchmark_total_annual_return\n",
    "tempdf['diff'] = diff_return\n",
    "# pprint(tempdf)\n",
    "# print(\"Total {} return: {}\".format(ticker, total_return))\n",
    "# print(\"Alpha: {}\".format(alpha))\n",
    "\n",
    "fig,ax = plt.subplots(1,1,figsize=(10,5))\n",
    "tempdf.plot(y=[ticker, 'benchmark'], ax=ax)\n",
    "\n",
    "ax2 = ax.twinx()\n",
    "tempdf.plot(y=[ticker, 'benchmark'], ax=ax2)\n",
    "plt.title(\"Total annual return\")\n",
    "\n",
    "ticker_adj_prices = get_investment_growth(ticker=ticker)\n",
    "benchmark_adj_prices = get_investment_growth(ticker=\"SPY\")\n",
    "pricesdf = pd.DataFrame(index=ticker_adj_prices.index)  # Just for a better display\n",
    "pricesdf[ticker] = ticker_adj_prices\n",
    "pricesdf['benchmark'] = benchmark_adj_prices\n",
    "pprint(pricesdf.head())\n",
    "\n",
    "fign,axn = plt.subplots(1,1,figsize=(10,5))\n",
    "pricesdf.plot(ax=axn)\n",
    "axn2 = axn.twinx()\n",
    "pricesdf.plot(ax=axn2)\n",
    "plt.title(\"Growth of $100\")\n"
   ]
  },
  {
   "cell_type": "code",
   "execution_count": null,
   "metadata": {},
   "outputs": [],
   "source": []
  }
 ],
 "metadata": {
  "kernelspec": {
   "display_name": "Python 3",
   "language": "python",
   "name": "python3"
  },
  "language_info": {
   "codemirror_mode": {
    "name": "ipython",
    "version": 3
   },
   "file_extension": ".py",
   "mimetype": "text/x-python",
   "name": "python",
   "nbconvert_exporter": "python",
   "pygments_lexer": "ipython3",
   "version": "3.11.9"
  }
 },
 "nbformat": 4,
 "nbformat_minor": 2
}
