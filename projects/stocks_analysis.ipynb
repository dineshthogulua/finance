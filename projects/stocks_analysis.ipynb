{
 "cells": [
  {
   "cell_type": "markdown",
   "metadata": {},
   "source": [
    "### Stocks Analysis\n",
    "What factors make for a successful stock investment? This code is an attempt to answer this simple question. I find the best performing stocks in a period and see if I can find clues in their fundamentals that make them successful stocks. \n"
   ]
  },
  {
   "cell_type": "code",
   "execution_count": 32,
   "metadata": {},
   "outputs": [],
   "source": [
    "# Import required libraries\n",
    "import pandas as pd\n",
    "import random\n",
    "import yfinance as yf\n",
    "from datetime import datetime, timedelta\n",
    "from requests import Session\n",
    "from requests_cache import CacheMixin, SQLiteCache\n",
    "from requests_ratelimiter import LimiterMixin, MemoryQueueBucket\n",
    "from pyrate_limiter import Duration, RequestRate, Limiter\n",
    "import sys\n",
    "import os\n",
    "\n",
    "sys.path.append(\"../\")\n",
    "from edgar_utils import ticker_to_cik, get_companywide_concepts, get_financial_item\n",
    "from adamodaran_utils import get_industry_list, get_industry_df\n",
    "\n",
    "from pprint import pprint"
   ]
  },
  {
   "cell_type": "code",
   "execution_count": 33,
   "metadata": {},
   "outputs": [],
   "source": [
    "# Set up the environment\n",
    "yf.set_tz_cache_location(\"../cache/yfinance\")\n",
    "pd.set_option('display.width', 1000)\n",
    "class CachedLimiterSession(CacheMixin, LimiterMixin, Session):\n",
    "   pass\n",
    "\n",
    "session = CachedLimiterSession(\n",
    "   limiter=Limiter(RequestRate(2, Duration.SECOND*5)),  # max 2 requests per 5 seconds\n",
    "   bucket_class=MemoryQueueBucket,\n",
    "   backend=SQLiteCache(\"../cache/yfinance/yfinance.cache\"),\n",
    ")\n",
    "session.headers['User-agent'] = 'my-program/1.0'"
   ]
  },
  {
   "cell_type": "code",
   "execution_count": 34,
   "metadata": {},
   "outputs": [],
   "source": [
    "# get_historical_returns ---------------------------------------------------------------------------------------------------------------\n",
    "#   Returns the total anualized returns in percentage for a given ticker and no. of years. The no. of years defaults to 10\n",
    "# --------------------------------------------------------------------------------------------------------------------------------------\n",
    "def get_historical_returns(ticker, no_of_years = 10):\n",
    "    try:\n",
    "        price_df = yf.download(ticker, period=\"1d\", session=session,progress=False)\n",
    "        if price_df.empty:\n",
    "            return(None)\n",
    "    except:\n",
    "        return(None)\n",
    "    end_date = price_df.index[0]\n",
    "    start_date = end_date - pd.DateOffset(years=no_of_years+1)  # We need 11 years of data to be able to calculate 10 years of returns\n",
    "\n",
    "    try:\n",
    "        data = yf.download(ticker, start=start_date, end=end_date, interval=\"3mo\", progress=False)\n",
    "        if data.empty:\n",
    "            return(None)\n",
    "    except:\n",
    "        return(None)\n",
    "    price_data = data['Adj Close'].resample(\"YE\").last()\n",
    "    total_annual_return = price_data.pct_change()*100\n",
    "    total_annual_return.drop(index=total_annual_return.index[0], inplace=True)\n",
    "    return(total_annual_return)"
   ]
  },
  {
   "cell_type": "markdown",
   "metadata": {},
   "source": [
    "### Calculating total return\n",
    "We want to calculate the stock return taking into account dividends paid. One way to do this is to assume that the dividends were reinvested into the stock. Suppose a stock at the beginning of the year was $24 and became $28 at the end of the year, but a dividend of $0.08 was paid in-between right after a day when the closing price was $24.95, then the total return is:\n",
    "\n",
    "$$\n",
    "\\begin{align*}\n",
    "r   &= \\left( \\dfrac{28 + 0.08\\times\\dfrac{28}{24.95}}{24} \\right) - 1\\\\\n",
    "    &= \\dfrac{28}{24} \\left( 1+\\dfrac{0.08}{24.95} \\right) - 1\n",
    "\\end{align*}\n",
    "$$\n",
    "\n",
    "[Yahoo does adjustments for splits and dividends](https://help.yahoo.com/kb/SLN28256.html?guccounter=1&guce_referrer=aHR0cHM6Ly93d3cuZ29vZ2xlLmNvbS8&guce_referrer_sig=AQAAAFje9jIInmwS1WuWOB8yCrrcQlQRzvnHwPb5JwJpM1bB1pkpLUJKuEJznLZB5S-h_4mj4LuRqTGEM5tAqHESlWTLoXyOQXkGyDDM5kTt3mPBN-Na57XBw5hd6yahp3J1C1nfuHQgpt1y4TuuKKuCdWr6DQWRUPxiJWpAuQKcPCmU) and provides data called \"Adj Close\" price. It is quite easy to understand how they adjust for splits. But the way they adjust for dividends is a little different. When a dividend is paid, they calculate how much of the stock price (based on prev day closing price) that dividend represented. Say it is 0.2%. They take away 0.2% from all the prices preceding that dividend payment. What they are effectively saying is that, the original stock prices before the dividend contained two parts - one that is 99.8% of it that remains in the stock and a 0.2% part that eventually got paid out as a dividend. In other words, their return, if calculated using their \"Adj Close\" would be[^1]:\n",
    "\n",
    "$$\n",
    "\\hat{r} = \\left( \\dfrac{28}{24\\times\\left(1-\\dfrac{0.08}{24.95}\\right)} \\right) - 1\n",
    "$$\n",
    "\n",
    "The two methods aren't very different if the dividend amount is small. In this case, it represents 0.32%. You can see this by multplying the numerator and denominator in my return calculation by $\\left(1-\\frac{0.08}{24.95}\\right)$.\n",
    "\n",
    "$$\n",
    "\\begin{align*}\n",
    "r   &= \\dfrac{28}{24} \\left( 1+\\dfrac{0.08}{24.95} \\right) - 1 \\\\\n",
    "    &= \\dfrac{28}{24} \\left(\\dfrac{1-\\dfrac{0.08}{24.95}}{1-\\dfrac{0.08}{24.95}}\\right) \\left( 1+\\dfrac{0.08}{24.95} \\right) - 1 \\\\\n",
    "    &= \\left( \\dfrac{28}{24\\times\\left(1-\\dfrac{0.08}{24.95}\\right)} \\right) \\left(1^2-\\left(\\dfrac{0.08}{24.95} \\right)^2 \\right) - 1 \\\\\n",
    "    &= \\hat{r}(1-0.00001024) \\\\\n",
    "    &\\approx \\hat{r}\n",
    "\\end{align*}\n",
    "$$\n",
    "\n",
    "For our purposes, using \"Adj. Close\" is sufficient. \n",
    "\n",
    "[^1]: Note that there is a major typo in the Yahoo page: They used $24.95 as the denominator instead of $24.95. But if you expand the \"Multipliers\" section, it is quite clear they meant to use $24.95. Also, they don't use a 1 year starting price of $24 that I have used. I thought using a 1 year return would be intuitive."
   ]
  },
  {
   "cell_type": "code",
   "execution_count": 35,
   "metadata": {},
   "outputs": [
    {
     "name": "stdout",
     "output_type": "stream",
     "text": [
      "Industry(ies): ['Transportation (Railroads)']\n",
      "CSX\n",
      "FIP\n",
      "NSC\n",
      "UNP\n",
      "Shortlist: ['NSC']\n"
     ]
    }
   ],
   "source": [
    "COMPARISON_YEARS = 10\n",
    "\n",
    "# Randomly select an industry and get a list of companies\n",
    "ind_list = get_industry_list()\n",
    "ind_list_sample = random.sample(list(ind_list), 1)\n",
    "print(\"Industry(ies): {}\".format(ind_list_sample))\n",
    "companies_list = get_industry_df(ind_list_sample).set_index('ticker')\n",
    "\n",
    "# Find all the companies that beat S&P500 7 or more years in the last 10 years\n",
    "benchmark_total_annual_return = get_historical_returns(\"SPY\", no_of_years=COMPARISON_YEARS)\n",
    "shortlisted_tickers = []\n",
    "for ticker in companies_list.index:\n",
    "    print(ticker)\n",
    "    total_annual_return = get_historical_returns(ticker, no_of_years=COMPARISON_YEARS)\n",
    "    if total_annual_return is None:\n",
    "        continue\n",
    "    diff_return = total_annual_return - benchmark_total_annual_return\n",
    "    companies_list.loc[ticker, 'alpha'] = ((1 + total_annual_return / 100).prod() - (1 + benchmark_total_annual_return / 100).prod())*100\n",
    "    positive_returns = diff_return[diff_return>0]\n",
    "    if positive_returns.count() >= (COMPARISON_YEARS*0.7):    # Arbitrary criterion for declearing a stock is a good stock\n",
    "        shortlisted_tickers.append(ticker)\n",
    "print(\"Shortlist: {}\".format(shortlisted_tickers))"
   ]
  },
  {
   "cell_type": "code",
   "execution_count": 36,
   "metadata": {},
   "outputs": [],
   "source": [
    "shortlisted_companies = companies_list[companies_list.index.isin(shortlisted_tickers)]\n",
    "shortlisted_companies\n",
    "if os.path.isfile(\"shortlisted_companies.csv\"):\n",
    "    shortlisted_companies.to_csv(\"shortlisted_companies.csv\", mode=\"a\", header=False)\n",
    "else:\n",
    "    shortlisted_companies.to_csv(\"shortlisted_companies.csv\", header=True)"
   ]
  },
  {
   "cell_type": "code",
   "execution_count": 37,
   "metadata": {},
   "outputs": [],
   "source": [
    "# # Research individual companies. The following code is mainly for debugging\n",
    "# ticker = \"FTAI\"\n",
    "\n",
    "# total_annual_return = get_historical_returns(ticker, no_of_years=COMPARISON_YEARS)\n",
    "\n",
    "\n",
    "# diff_return = total_annual_return - benchmark_total_annual_return\n",
    "# total_return = ((1 + total_annual_return / 100).prod() - 1)*100\n",
    "# pprint((1 + total_annual_return / 100).prod())\n",
    "# pprint((1 + benchmark_total_annual_return / 100).prod())\n",
    "\n",
    "# total_benchmark_return = ((1 + benchmark_total_annual_return / 100).prod() - 1)*100\n",
    "# alpha = ((1 + total_annual_return / 100).prod() - (1 + benchmark_total_annual_return / 100).prod())*100\n",
    "# positive_returns = diff_return[diff_return>0]\n",
    "\n",
    "# # Display\n",
    "# tempdf = pd.DataFrame(index=total_annual_return.index)  # Just for a better display\n",
    "# tempdf[ticker] = total_annual_return\n",
    "# tempdf['benchmark'] = benchmark_total_annual_return\n",
    "# tempdf['diff'] = diff_return\n",
    "# pprint(tempdf)\n",
    "# print(\"Total {} return: {}\".format(ticker, total_return))\n",
    "# print(\"Total benchmark return: {}\".format(total_annual_return))\n",
    "# print(\"Alpha: {}\".format(alpha))"
   ]
  }
 ],
 "metadata": {
  "kernelspec": {
   "display_name": "Python 3",
   "language": "python",
   "name": "python3"
  },
  "language_info": {
   "codemirror_mode": {
    "name": "ipython",
    "version": 3
   },
   "file_extension": ".py",
   "mimetype": "text/x-python",
   "name": "python",
   "nbconvert_exporter": "python",
   "pygments_lexer": "ipython3",
   "version": "3.11.9"
  }
 },
 "nbformat": 4,
 "nbformat_minor": 2
}
