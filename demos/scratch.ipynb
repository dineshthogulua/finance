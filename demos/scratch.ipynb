{
 "cells": [
  {
   "cell_type": "code",
   "execution_count": 6,
   "metadata": {},
   "outputs": [],
   "source": [
    "import requests\n",
    "import json\n",
    "import pandas as pd\n",
    "\n",
    "import sys\n",
    "\n",
    "sys.path.append(\"../\")\n",
    "from adamodaran_utils import *"
   ]
  },
  {
   "cell_type": "code",
   "execution_count": 8,
   "metadata": {},
   "outputs": [
    {
     "name": "stderr",
     "output_type": "stream",
     "text": [
      "C:\\Users\\sarav\\AppData\\Local\\Packages\\PythonSoftwareFoundation.Python.3.11_qbz5n2kfra8p0\\LocalCache\\local-packages\\Python311\\site-packages\\urllib3\\connectionpool.py:1099: InsecureRequestWarning: Unverified HTTPS request is being made to host 'www.stern.nyu.edu'. Adding certificate verification is strongly advised. See: https://urllib3.readthedocs.io/en/latest/advanced-usage.html#tls-warnings\n",
      "  warnings.warn(\n",
      "C:\\Users\\sarav\\AppData\\Local\\Packages\\PythonSoftwareFoundation.Python.3.11_qbz5n2kfra8p0\\LocalCache\\local-packages\\Python311\\site-packages\\urllib3\\connectionpool.py:1099: InsecureRequestWarning: Unverified HTTPS request is being made to host 'people.stern.nyu.edu'. Adding certificate verification is strongly advised. See: https://urllib3.readthedocs.io/en/latest/advanced-usage.html#tls-warnings\n",
      "  warnings.warn(\n"
     ]
    },
    {
     "name": "stdout",
     "output_type": "stream",
     "text": [
      "['Bank (Money Center)' 'Broadcasting' 'Building Materials' 'Cable TV'\n",
      " 'Chemical (Specialty)' 'Computer Services' 'Construction Supplies'\n",
      " 'Diversified' 'Drugs (Pharmaceutical)' 'Engineering/Construction'\n",
      " 'Farming/Agriculture' 'Financial Svcs. (Non-bank & Insurance)'\n",
      " 'Food Processing' 'Furn/Home Furnishings' 'Homebuilding' 'Hotel/Gaming'\n",
      " 'Investments & Asset Management' 'Metals & Mining' 'Oil/Gas (Integrated)'\n",
      " 'Oil/Gas (Production and Exploration)' 'Oil/Gas Distribution'\n",
      " 'Packaging & Container' 'Paper/Forest Products' 'Power'\n",
      " 'Real Estate (Development)' 'Real Estate (Operations & Services)'\n",
      " 'Restaurant/Dining' 'Retail (General)' 'Retail (Grocery and Food)'\n",
      " 'Shipbuilding & Marine' 'Shoe' 'Steel' 'Telecom. Services'\n",
      " 'Transportation' 'Advertising' 'Aerospace/Defense' 'Air Transport'\n",
      " 'Apparel' 'Auto & Truck' 'Auto Parts' 'Banks (Regional)'\n",
      " 'Beverage (Alcoholic)' 'Beverage (Soft)' 'Brokerage & Investment Banking'\n",
      " 'Business & Consumer Services' 'Chemical (Basic)'\n",
      " 'Chemical (Diversified)' 'Coal & Related Energy' 'Computers/Peripherals'\n",
      " 'Drugs (Biotechnology)' 'Education' 'Electrical Equipment'\n",
      " 'Electronics (Consumer & Office)' 'Electronics (General)' 'Entertainment'\n",
      " 'Environmental & Waste Services' 'Food Wholesalers'\n",
      " 'Green & Renewable Energy' 'Healthcare Products'\n",
      " 'Healthcare Support Services' 'Heathcare Information and Technology'\n",
      " 'Hospitals/Healthcare Facilities' 'Household Products'\n",
      " 'Information Services' 'Insurance (General)' 'Insurance (Life)'\n",
      " 'Insurance (Prop/Cas.)' 'Machinery' 'Oilfield Svcs/Equip.'\n",
      " 'Precious Metals' 'Publishing & Newspapers' 'R.E.I.T.' 'Recreation'\n",
      " 'Retail (Automotive)' 'Retail (Building Supply)' 'Retail (Distributors)'\n",
      " 'Retail (REITs)' 'Retail (Special Lines)' 'Semiconductor'\n",
      " 'Semiconductor Equip' 'Software (Entertainment)' 'Software (Internet)'\n",
      " 'Software (System & Application)' 'Telecom (Wireless)'\n",
      " 'Telecom. Equipment' 'Transportation (Railroads)' 'Trucking'\n",
      " 'Utility (General)' 'Utility (Water)' 'Real Estate (General/Diversified)'\n",
      " 'Office Equipment & Services' 'Tobacco' 'Reinsurance' 'Rubber& Tires']\n"
     ]
    }
   ],
   "source": [
    "indlist = get_industry_list()\n",
    "print(indlist)"
   ]
  },
  {
   "cell_type": "code",
   "execution_count": 3,
   "metadata": {},
   "outputs": [
    {
     "name": "stdout",
     "output_type": "stream",
     "text": [
      "Date\n",
      "2024-02-21 00:00:00-05:00    0.5\n",
      "2024-06-14 00:00:00-04:00    0.5\n",
      "2024-09-16 00:00:00-04:00    0.5\n",
      "2024-12-16 00:00:00-05:00    0.5\n",
      "Name: Dividends, dtype: float64\n"
     ]
    }
   ],
   "source": [
    "print(dat.get_dividends())"
   ]
  }
 ],
 "metadata": {
  "kernelspec": {
   "display_name": "Python 3",
   "language": "python",
   "name": "python3"
  },
  "language_info": {
   "codemirror_mode": {
    "name": "ipython",
    "version": 3
   },
   "file_extension": ".py",
   "mimetype": "text/x-python",
   "name": "python",
   "nbconvert_exporter": "python",
   "pygments_lexer": "ipython3",
   "version": "3.11.9"
  }
 },
 "nbformat": 4,
 "nbformat_minor": 2
}
