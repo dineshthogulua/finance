{
 "cells": [
  {
   "cell_type": "code",
   "execution_count": 1,
   "metadata": {},
   "outputs": [],
   "source": [
    "from reportlab.platypus import SimpleDocTemplate, Table, TableStyle, Image, Spacer\n",
    "from reportlab.lib import colors\n",
    "from reportlab.lib.pagesizes import A4\n",
    "from reportlab.lib.units import inch\n",
    "import pandas as pd\n",
    "import matplotlib.pyplot as plt\n",
    "\n",
    "# --- Sample DataFrame ---\n",
    "df = pd.DataFrame({\n",
    "    \"Name\": [\"Alice\", \"Bob\", \"Charlie\"],\n",
    "    \"Score\": [85, 90, 78]\n",
    "})\n",
    "\n",
    "# --- Save Chart ---\n",
    "df.plot(kind='bar', x='Name', y='Score', legend=False, title=\"Scores\")\n",
    "chart_path = \"chart.png\"\n",
    "plt.tight_layout()\n",
    "plt.savefig(chart_path)\n",
    "plt.close()\n",
    "\n",
    "# --- Prepare Table Data for ReportLab ---\n",
    "data = [df.columns.tolist()] + df.values.tolist()\n",
    "\n",
    "# --- ReportLab PDF Generation ---\n",
    "doc = SimpleDocTemplate(\"pretty_report.pdf\", pagesize=A4)\n",
    "elements = []\n",
    "\n",
    "# Table with styling\n",
    "table = Table(data, hAlign='LEFT')\n",
    "table.setStyle(TableStyle([\n",
    "    ('BACKGROUND', (0,0), (-1,0), colors.lightblue),\n",
    "    ('TEXTCOLOR',(0,0),(-1,0),colors.whitesmoke),\n",
    "    ('ALIGN',(0,0),(-1,-1),'CENTER'),\n",
    "    ('FONTNAME', (0,0),(-1,0), 'Helvetica-Bold'),\n",
    "    ('BOTTOMPADDING', (0,0),(-1,0), 12),\n",
    "    ('BACKGROUND',(0,1),(-1,-1),colors.beige),\n",
    "    ('GRID', (0,0), (-1,-1), 1, colors.black),\n",
    "]))\n",
    "\n",
    "# Add to PDF\n",
    "elements.append(table)\n",
    "elements.append(Spacer(1, 0.5*inch))\n",
    "elements.append(Image(chart_path, width=5*inch, height=3*inch))\n",
    "\n",
    "# Build PDF\n",
    "doc.build(elements)\n"
   ]
  }
 ],
 "metadata": {
  "kernelspec": {
   "display_name": "Python 3",
   "language": "python",
   "name": "python3"
  },
  "language_info": {
   "codemirror_mode": {
    "name": "ipython",
    "version": 3
   },
   "file_extension": ".py",
   "mimetype": "text/x-python",
   "name": "python",
   "nbconvert_exporter": "python",
   "pygments_lexer": "ipython3",
   "version": "3.11.9"
  }
 },
 "nbformat": 4,
 "nbformat_minor": 2
}
