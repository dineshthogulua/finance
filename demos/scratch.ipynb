{
 "cells": [
  {
   "cell_type": "code",
   "execution_count": 1,
   "metadata": {},
   "outputs": [],
   "source": [
    "import pandas as pd \n",
    "import sys\n",
    "\n",
    "sys.path.append(\"../\")\n",
    "from edgar_utils import ticker_to_cik, get_companywide_concepts, get_financial_item\n",
    "from adamodaran_utils import get_industry_list, get_country_list, get_industry_df"
   ]
  },
  {
   "cell_type": "code",
   "execution_count": 2,
   "metadata": {},
   "outputs": [
    {
     "name": "stdout",
     "output_type": "stream",
     "text": [
      "                          company     industry                  sector  \\\n",
      "66    oOh!media Limited (ASX:OML)  Advertising  Communication Services   \n",
      "67    IVE Group Limited (ASX:IGL)  Advertising  Communication Services   \n",
      "68          GTN Limited (ASX:GTN)  Advertising  Communication Services   \n",
      "69  Enero Group Limited (ASX:EGG)  Advertising  Communication Services   \n",
      "70        Motio Limited (ASX:MXO)  Advertising  Communication Services   \n",
      "\n",
      "    SIC Code    Country exchange ticker  \n",
      "66      7310  Australia      ASX    OML  \n",
      "67      7310  Australia      ASX    IGL  \n",
      "68      7311  Australia      ASX    GTN  \n",
      "69      7310  Australia      ASX    EGG  \n",
      "70      7310  Australia      ASX    MXO  \n"
     ]
    }
   ],
   "source": [
    "df = get_industry_df(industry_list=[\"Advertising\"], country_list=[\"All\"])\n",
    "print(df.head())"
   ]
  },
  {
   "cell_type": "code",
   "execution_count": 2,
   "metadata": {},
   "outputs": [
    {
     "name": "stdout",
     "output_type": "stream",
     "text": [
      "['Argentina' 'Australia' 'Austria' 'Azerbaijan' 'Bahamas' 'Bahrain'\n",
      " 'Bangladesh' 'Barbados' 'Belgium' 'Benin' 'Bermuda' 'Botswana' 'Brazil'\n",
      " 'British Virgin Islands' 'Bulgaria' 'Burkina Faso' 'Cambodia' 'Canada'\n",
      " 'Cayman Islands' 'Chile' 'China' 'Colombia' 'Costa Rica' 'Croatia'\n",
      " 'Curaçao' 'Cyprus' 'Czech Republic' 'Denmark' 'Dominican Republic'\n",
      " 'Ecuador' 'Egypt' 'El Salvador' 'Estonia' 'Finland' 'France' 'Gabon'\n",
      " 'Georgia' 'Germany' 'Ghana' 'Gibraltar' 'Greece' 'Greenland' 'Guernsey'\n",
      " 'Hong Kong' 'Hungary' 'Iceland' 'India' 'Indonesia' 'Ireland'\n",
      " 'Isle of Man' 'Israel' 'Italy' 'Ivory Coast' 'Jamaica' 'Japan' 'Jersey'\n",
      " 'Jordan' 'Kazakhstan' 'Kenya' 'Kuwait' 'Latvia' 'Lebanon' 'Liberia'\n",
      " 'Liechtenstein' 'Lithuania' 'Luxembourg' 'Macau' 'Malawi' 'Malaysia'\n",
      " 'Mali' 'Malta' 'Mauritius' 'Mexico' 'Monaco' 'Mongolia' 'Montenegro'\n",
      " 'Morocco' 'Mozambique' 'Myanmar' 'Namibia' 'Netherlands' 'New Zealand'\n",
      " 'Niger' 'Nigeria' 'Norway' 'Oman' 'Pakistan' 'Palestinian Authority'\n",
      " 'Panama' 'Papua New Guinea' 'Peru' 'Philippines' 'Poland' 'Portugal'\n",
      " 'Qatar' 'Reunion' 'Romania' 'Russia' 'Rwanda' 'Saint Lucia'\n",
      " 'Saudi Arabia' 'Senegal' 'Serbia' 'Singapore' 'Slovakia' 'Slovenia'\n",
      " 'South Africa' 'South Korea' 'Spain' 'Sri Lanka' 'Sudan' 'Suriname'\n",
      " 'Sweden' 'Switzerland' 'Taiwan' 'Tanzania' 'Thailand' 'Togo'\n",
      " 'Trinidad & Tobago' 'Tunisia' 'Turkey' 'Turks & Caicos Islands' 'Uganda'\n",
      " 'Ukraine' 'United Arab Emirates' 'United Kingdom' 'United States'\n",
      " 'Uruguay' 'Venezuela' 'Vietnam' 'Zambia' 'Zimbabwe']\n"
     ]
    }
   ],
   "source": [
    "clist = get_country_list()\n",
    "print(clist)\n"
   ]
  }
 ],
 "metadata": {
  "kernelspec": {
   "display_name": "Python 3",
   "language": "python",
   "name": "python3"
  },
  "language_info": {
   "codemirror_mode": {
    "name": "ipython",
    "version": 3
   },
   "file_extension": ".py",
   "mimetype": "text/x-python",
   "name": "python",
   "nbconvert_exporter": "python",
   "pygments_lexer": "ipython3",
   "version": "3.11.9"
  }
 },
 "nbformat": 4,
 "nbformat_minor": 2
}
