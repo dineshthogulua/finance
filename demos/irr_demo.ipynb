{
 "cells": [
  {
   "cell_type": "code",
   "execution_count": 1,
   "metadata": {},
   "outputs": [],
   "source": [
    "import numpy as np\n",
    "import matplotlib.pyplot as plt\n",
    "from pprint import pprint"
   ]
  },
  {
   "cell_type": "code",
   "execution_count": 13,
   "metadata": {},
   "outputs": [
    {
     "name": "stdout",
     "output_type": "stream",
     "text": [
      "0.005671444260690439\n"
     ]
    }
   ],
   "source": [
    "CF = np.array([-100,80,90,10])\n",
    "rate = 0.4622\n",
    "maturity = CF.shape[0]-1\n",
    "\n",
    "discount_factors = 1/(1+rate)**np.arange(0,maturity+1)\n",
    "NPV = np.dot(CF, discount_factors)\n",
    "\n",
    "print(NPV)\n"
   ]
  },
  {
   "cell_type": "code",
   "execution_count": 27,
   "metadata": {},
   "outputs": [
    {
     "name": "stdout",
     "output_type": "stream",
     "text": [
      "[[1. 0. 0.]\n",
      " [0. 1. 0.]\n",
      " [0. 0. 1.]]\n"
     ]
    }
   ],
   "source": [
    "print(np.identity(3))"
   ]
  },
  {
   "cell_type": "code",
   "execution_count": 33,
   "metadata": {},
   "outputs": [
    {
     "name": "stdout",
     "output_type": "stream",
     "text": [
      "[[0.  0.  0.  0. ]\n",
      " [0.  0.5 0.  0. ]\n",
      " [0.  0.  1.  0. ]\n",
      " [0.  0.  0.  1.5]]\n"
     ]
    }
   ],
   "source": [
    "# Calculate an NPV curve for various interest rates\n",
    "rates = np.arange(0.0, 2, 0.5)\n",
    "rates_idmat = np.diag(rates)\n",
    "\n",
    "# discount_matrix = 1/(1+rate)**np.arange(0,maturity+1)\n",
    "\n",
    "print(rates)\n",
    "# print(discount_matrix)"
   ]
  }
 ],
 "metadata": {
  "kernelspec": {
   "display_name": "Python 3",
   "language": "python",
   "name": "python3"
  },
  "language_info": {
   "codemirror_mode": {
    "name": "ipython",
    "version": 3
   },
   "file_extension": ".py",
   "mimetype": "text/x-python",
   "name": "python",
   "nbconvert_exporter": "python",
   "pygments_lexer": "ipython3",
   "version": "3.11.9"
  }
 },
 "nbformat": 4,
 "nbformat_minor": 2
}
