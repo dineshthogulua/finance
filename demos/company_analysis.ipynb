{
 "cells": [
  {
   "cell_type": "markdown",
   "metadata": {},
   "source": [
    "# Description\n",
    "This code is a sandbox for analysing a company. "
   ]
  },
  {
   "cell_type": "code",
   "execution_count": 1,
   "metadata": {},
   "outputs": [],
   "source": [
    "import sys\n",
    "from pprint import pprint\n",
    "\n",
    "sys.path.append(\"../\")\n",
    "from edgar_utils import ticker_to_cik, get_companywide_concepts, get_financial_item\n",
    "from adamodaran_utils import get_industry_df, get_industry_and_sector\n",
    "import pandas as pd\n",
    "pd.set_option('display.width', 1000)"
   ]
  },
  {
   "cell_type": "code",
   "execution_count": 2,
   "metadata": {},
   "outputs": [
    {
     "data": {
      "text/html": [
       "<div>\n",
       "<style scoped>\n",
       "    .dataframe tbody tr th:only-of-type {\n",
       "        vertical-align: middle;\n",
       "    }\n",
       "\n",
       "    .dataframe tbody tr th {\n",
       "        vertical-align: top;\n",
       "    }\n",
       "\n",
       "    .dataframe thead th {\n",
       "        text-align: right;\n",
       "    }\n",
       "</style>\n",
       "<table border=\"1\" class=\"dataframe\">\n",
       "  <thead>\n",
       "    <tr style=\"text-align: right;\">\n",
       "      <th></th>\n",
       "      <th>company</th>\n",
       "      <th>industry</th>\n",
       "      <th>sector</th>\n",
       "      <th>SIC Code</th>\n",
       "      <th>exchange</th>\n",
       "      <th>ticker</th>\n",
       "    </tr>\n",
       "  </thead>\n",
       "  <tbody>\n",
       "    <tr>\n",
       "      <th>5885</th>\n",
       "      <td>8x8, Inc. (NasdaqGS:EGHT)</td>\n",
       "      <td>Software (System &amp; Application)</td>\n",
       "      <td>Information Technology</td>\n",
       "      <td>4899</td>\n",
       "      <td>NasdaqGS</td>\n",
       "      <td>EGHT</td>\n",
       "    </tr>\n",
       "    <tr>\n",
       "      <th>5886</th>\n",
       "      <td>A10 Networks, Inc. (NYSE:ATEN)</td>\n",
       "      <td>Software (System &amp; Application)</td>\n",
       "      <td>Information Technology</td>\n",
       "      <td>3576</td>\n",
       "      <td>NYSE</td>\n",
       "      <td>ATEN</td>\n",
       "    </tr>\n",
       "    <tr>\n",
       "      <th>5887</th>\n",
       "      <td>ACI Worldwide, Inc. (NasdaqGS:ACIW)</td>\n",
       "      <td>Software (System &amp; Application)</td>\n",
       "      <td>Information Technology</td>\n",
       "      <td>7370</td>\n",
       "      <td>NasdaqGS</td>\n",
       "      <td>ACIW</td>\n",
       "    </tr>\n",
       "    <tr>\n",
       "      <th>5888</th>\n",
       "      <td>Adeia Inc. (NasdaqGS:ADEA)</td>\n",
       "      <td>Software (System &amp; Application)</td>\n",
       "      <td>Information Technology</td>\n",
       "      <td>3674</td>\n",
       "      <td>NasdaqGS</td>\n",
       "      <td>ADEA</td>\n",
       "    </tr>\n",
       "    <tr>\n",
       "      <th>5889</th>\n",
       "      <td>Adobe Inc. (NasdaqGS:ADBE)</td>\n",
       "      <td>Software (System &amp; Application)</td>\n",
       "      <td>Information Technology</td>\n",
       "      <td>7370</td>\n",
       "      <td>NasdaqGS</td>\n",
       "      <td>ADBE</td>\n",
       "    </tr>\n",
       "  </tbody>\n",
       "</table>\n",
       "</div>"
      ],
      "text/plain": [
       "                                  company                         industry                  sector SIC Code  exchange ticker\n",
       "5885            8x8, Inc. (NasdaqGS:EGHT)  Software (System & Application)  Information Technology     4899  NasdaqGS   EGHT\n",
       "5886       A10 Networks, Inc. (NYSE:ATEN)  Software (System & Application)  Information Technology     3576      NYSE   ATEN\n",
       "5887  ACI Worldwide, Inc. (NasdaqGS:ACIW)  Software (System & Application)  Information Technology     7370  NasdaqGS   ACIW\n",
       "5888           Adeia Inc. (NasdaqGS:ADEA)  Software (System & Application)  Information Technology     3674  NasdaqGS   ADEA\n",
       "5889           Adobe Inc. (NasdaqGS:ADBE)  Software (System & Application)  Information Technology     7370  NasdaqGS   ADBE"
      ]
     },
     "execution_count": 2,
     "metadata": {},
     "output_type": "execute_result"
    }
   ],
   "source": [
    "[industry, sector] = get_industry_and_sector(\"MSFT\")\n",
    "industry_df = get_industry_df(industry_list=[industry])\n",
    "industry_df.head()"
   ]
  },
  {
   "cell_type": "code",
   "execution_count": 3,
   "metadata": {},
   "outputs": [
    {
     "name": "stdout",
     "output_type": "stream",
     "text": [
      "['0000789019']\n"
     ]
    }
   ],
   "source": [
    "cik_list = ticker_to_cik([\"MSFT\"])\n",
    "print(cik_list)"
   ]
  },
  {
   "cell_type": "code",
   "execution_count": 8,
   "metadata": {},
   "outputs": [
    {
     "name": "stdout",
     "output_type": "stream",
     "text": [
      "         start         end          val                  accn    fy  fp  form       filed     frame\n",
      "0   2007-07-01  2007-09-30  13762000000  0001193125-10-171791  2010  FY  10-K  2010-07-30  CY2007Q3\n",
      "1   2007-10-01  2007-12-31  16367000000  0001193125-10-171791  2010  FY  10-K  2010-07-30  CY2007Q4\n",
      "2   2008-01-01  2008-03-31  14454000000  0001193125-10-171791  2010  FY  10-K  2010-07-30  CY2008Q1\n",
      "3   2007-07-01  2008-06-30  60420000000  0001193125-10-171791  2010  FY  10-K  2010-07-30    CY2008\n",
      "4   2008-04-01  2008-06-30  15837000000  0001193125-10-171791  2010  FY  10-K  2010-07-30  CY2008Q2\n",
      "5   2008-07-01  2008-09-30  15061000000  0001193125-10-171791  2010  FY  10-K  2010-07-30  CY2008Q3\n",
      "6   2008-07-01  2008-09-30  15061000000  0001193125-09-212454  2010  Q1  10-Q  2009-10-23       NaN\n",
      "7   2008-07-01  2008-12-31  31690000000  0001193125-10-015598  2010  Q2  10-Q  2010-01-28       NaN\n",
      "8   2008-10-01  2008-12-31  16629000000  0001193125-10-171791  2010  FY  10-K  2010-07-30  CY2008Q4\n",
      "9   2008-10-01  2008-12-31  16629000000  0001193125-10-015598  2010  Q2  10-Q  2010-01-28       NaN\n",
      "10  2008-07-01  2009-03-31  45338000000  0001193125-10-090116  2010  Q3  10-Q  2010-04-22       NaN\n",
      "11  2009-01-01  2009-03-31  13648000000  0001193125-10-171791  2010  FY  10-K  2010-07-30  CY2009Q1\n",
      "12  2009-01-01  2009-03-31  13648000000  0001193125-10-090116  2010  Q3  10-Q  2010-04-22       NaN\n",
      "13  2008-07-01  2009-06-30  58437000000  0001193125-10-171791  2010  FY  10-K  2010-07-30    CY2009\n",
      "14  2009-04-01  2009-06-30  13099000000  0001193125-10-171791  2010  FY  10-K  2010-07-30  CY2009Q2\n",
      "15  2009-07-01  2009-09-30  12920000000  0001193125-10-239825  2011  Q1  10-Q  2010-10-28  CY2009Q3\n",
      "16  2009-07-01  2009-09-30  12920000000  0001193125-10-171791  2010  FY  10-K  2010-07-30       NaN\n",
      "17  2009-07-01  2009-09-30  12920000000  0001193125-09-212454  2010  Q1  10-Q  2009-10-23       NaN\n",
      "18  2009-07-01  2009-12-31  31942000000  0001193125-11-015947  2011  Q2  10-Q  2011-01-27       NaN\n",
      "19  2009-07-01  2009-12-31  31942000000  0001193125-10-015598  2010  Q2  10-Q  2010-01-28       NaN\n",
      "20  2009-10-01  2009-12-31  19022000000  0001193125-11-015947  2011  Q2  10-Q  2011-01-27  CY2009Q4\n",
      "21  2009-10-01  2009-12-31  19022000000  0001193125-10-171791  2010  FY  10-K  2010-07-30       NaN\n",
      "22  2009-10-01  2009-12-31  19022000000  0001193125-10-015598  2010  Q2  10-Q  2010-01-28       NaN\n",
      "23  2009-07-01  2010-03-31  46445000000  0001193125-10-090116  2010  Q3  10-Q  2010-04-22       NaN\n",
      "24  2010-01-01  2010-03-31  14503000000  0001193125-10-171791  2010  FY  10-K  2010-07-30  CY2010Q1\n",
      "25  2010-01-01  2010-03-31  14503000000  0001193125-10-090116  2010  Q3  10-Q  2010-04-22       NaN\n",
      "26  2009-07-01  2010-06-30  62484000000  0001193125-10-171791  2010  FY  10-K  2010-07-30    CY2010\n",
      "27  2010-04-01  2010-06-30  16039000000  0001193125-10-171791  2010  FY  10-K  2010-07-30  CY2010Q2\n",
      "28  2010-07-01  2010-09-30  16195000000  0001193125-10-239825  2011  Q1  10-Q  2010-10-28  CY2010Q3\n",
      "29  2010-07-01  2010-12-31  36148000000  0001193125-11-015947  2011  Q2  10-Q  2011-01-27       NaN\n",
      "30  2010-10-01  2010-12-31  19953000000  0001193125-11-015947  2011  Q2  10-Q  2011-01-27  CY2010Q4\n",
      "here\n"
     ]
    }
   ],
   "source": [
    "data_df = get_financial_item(\"0000789019\", concept_of_interest=\"Revenues\")\n",
    "pprint(data_df)\n",
    "print(\"here\")"
   ]
  },
  {
   "cell_type": "code",
   "execution_count": 26,
   "metadata": {},
   "outputs": [
    {
     "name": "stdout",
     "output_type": "stream",
     "text": [
      "['BusinessAcquisitionsProFormaRevenue',\n",
      " 'ContractWithCustomerLiabilityRevenueRecognized',\n",
      " 'CostOfRevenue',\n",
      " 'DeferredRevenue',\n",
      " 'DeferredRevenueAdditions',\n",
      " 'DeferredRevenueCurrent',\n",
      " 'DeferredRevenueNoncurrent',\n",
      " 'DeferredRevenueRevenueRecognized',\n",
      " 'DeferredRevenueRevenueRecognized1',\n",
      " 'EntityWideDisclosureOnGeographicAreasRevenueFromExternalCustomersAttributedToEntitysCountryOfDomicile',\n",
      " 'EntityWideDisclosureOnGeographicAreasRevenueFromExternalCustomersAttributedToForeignCountries',\n",
      " 'IncreaseDecreaseInDeferredRevenue',\n",
      " 'RecognitionOfDeferredRevenue',\n",
      " 'RevenueFromContractWithCustomerExcludingAssessedTax',\n",
      " 'RevenueRemainingPerformanceObligation',\n",
      " 'RevenueRemainingPerformanceObligationPercentage',\n",
      " 'Revenues',\n",
      " 'SalesRevenueGoodsNet',\n",
      " 'SalesRevenueNet']\n"
     ]
    }
   ],
   "source": [
    "keylist = list(data_dict['facts']['us-gaap'].keys())\n",
    "concepts = [key for key in keylist if \"revenue\" in key.lower()]\n",
    "pprint(concepts)"
   ]
  },
  {
   "cell_type": "code",
   "execution_count": 33,
   "metadata": {},
   "outputs": [
    {
     "name": "stdout",
     "output_type": "stream",
     "text": [
      "        start         end          val                  accn    fy  fp  form       filed     frame\n",
      "0  2015-07-01  2016-06-30  91154000000  0001564590-18-019062  2018  FY  10-K  2018-08-03    CY2016\n",
      "1  2016-07-02  2016-09-30  21928000000  0001564590-18-019062  2018  FY  10-K  2018-08-03  CY2016Q3\n",
      "2  2016-10-01  2016-12-31  25826000000  0001564590-18-019062  2018  FY  10-K  2018-08-03  CY2016Q4\n",
      "3  2017-01-01  2017-03-31  23212000000  0001564590-18-019062  2018  FY  10-K  2018-08-03  CY2017Q1\n",
      "4  2016-07-01  2017-06-30  96571000000  0001564590-18-019062  2018  FY  10-K  2018-08-03       NaN\n",
      "5  2016-07-01  2017-06-30  96571000000  0001564590-19-027952  2019  FY  10-K  2019-08-01    CY2017\n",
      "6  2017-04-01  2017-06-30  25605000000  0001564590-18-019062  2018  FY  10-K  2018-08-03  CY2017Q2\n",
      "7  2017-07-01  2017-09-30  24538000000  0001564590-18-019062  2018  FY  10-K  2018-08-03       NaN\n",
      "8  2017-07-01  2017-09-30  24538000000  0001564590-18-024893  2019  Q1  10-Q  2018-10-24       NaN\n",
      "9  2017-07-01  2017-09-30  24538000000  0001564590-19-027952  2019  FY  10-K  2019-08-01  CY2017Q3\n",
      "<class 'pandas.core.frame.DataFrame'>\n"
     ]
    },
    {
     "data": {
      "text/html": [
       "<div>\n",
       "<style scoped>\n",
       "    .dataframe tbody tr th:only-of-type {\n",
       "        vertical-align: middle;\n",
       "    }\n",
       "\n",
       "    .dataframe tbody tr th {\n",
       "        vertical-align: top;\n",
       "    }\n",
       "\n",
       "    .dataframe thead th {\n",
       "        text-align: right;\n",
       "    }\n",
       "</style>\n",
       "<table border=\"1\" class=\"dataframe\">\n",
       "  <thead>\n",
       "    <tr style=\"text-align: right;\">\n",
       "      <th></th>\n",
       "      <th>end</th>\n",
       "      <th>val</th>\n",
       "      <th>frame</th>\n",
       "    </tr>\n",
       "  </thead>\n",
       "  <tbody>\n",
       "    <tr>\n",
       "      <th>0</th>\n",
       "      <td>2016-06-30</td>\n",
       "      <td>91154000000</td>\n",
       "      <td>CY2016</td>\n",
       "    </tr>\n",
       "    <tr>\n",
       "      <th>5</th>\n",
       "      <td>2017-06-30</td>\n",
       "      <td>96571000000</td>\n",
       "      <td>CY2017</td>\n",
       "    </tr>\n",
       "    <tr>\n",
       "      <th>20</th>\n",
       "      <td>2018-06-30</td>\n",
       "      <td>110360000000</td>\n",
       "      <td>CY2018</td>\n",
       "    </tr>\n",
       "    <tr>\n",
       "      <th>41</th>\n",
       "      <td>2019-06-30</td>\n",
       "      <td>125843000000</td>\n",
       "      <td>CY2019</td>\n",
       "    </tr>\n",
       "    <tr>\n",
       "      <th>59</th>\n",
       "      <td>2020-06-30</td>\n",
       "      <td>143015000000</td>\n",
       "      <td>CY2020</td>\n",
       "    </tr>\n",
       "    <tr>\n",
       "      <th>73</th>\n",
       "      <td>2021-06-30</td>\n",
       "      <td>168088000000</td>\n",
       "      <td>CY2021</td>\n",
       "    </tr>\n",
       "    <tr>\n",
       "      <th>85</th>\n",
       "      <td>2022-06-30</td>\n",
       "      <td>198270000000</td>\n",
       "      <td>CY2022</td>\n",
       "    </tr>\n",
       "    <tr>\n",
       "      <th>96</th>\n",
       "      <td>2023-06-30</td>\n",
       "      <td>211915000000</td>\n",
       "      <td>CY2023</td>\n",
       "    </tr>\n",
       "  </tbody>\n",
       "</table>\n",
       "</div>"
      ],
      "text/plain": [
       "           end           val   frame\n",
       "0   2016-06-30   91154000000  CY2016\n",
       "5   2017-06-30   96571000000  CY2017\n",
       "20  2018-06-30  110360000000  CY2018\n",
       "41  2019-06-30  125843000000  CY2019\n",
       "59  2020-06-30  143015000000  CY2020\n",
       "73  2021-06-30  168088000000  CY2021\n",
       "85  2022-06-30  198270000000  CY2022\n",
       "96  2023-06-30  211915000000  CY2023"
      ]
     },
     "execution_count": 33,
     "metadata": {},
     "output_type": "execute_result"
    }
   ],
   "source": [
    "company_fin_df1 = pd.DataFrame.from_dict(data_dict['facts']['us-gaap'][\"RevenueFromContractWithCustomerExcludingAssessedTax\"]['units']['USD'])\n",
    "pprint(company_fin_df1.head(10))\n",
    "res1 = company_fin_df1.loc[company_fin_df1['form'] == \"10-K\", ['end','val','frame']].dropna()\n",
    "pprint(type(res1))\n",
    "df1 = res1[~res1.frame.str.contains(\"Q\")]\n",
    "\n",
    "\n",
    "df1.head(30)"
   ]
  },
  {
   "cell_type": "code",
   "execution_count": 21,
   "metadata": {},
   "outputs": [
    {
     "data": {
      "text/html": [
       "<div>\n",
       "<style scoped>\n",
       "    .dataframe tbody tr th:only-of-type {\n",
       "        vertical-align: middle;\n",
       "    }\n",
       "\n",
       "    .dataframe tbody tr th {\n",
       "        vertical-align: top;\n",
       "    }\n",
       "\n",
       "    .dataframe thead th {\n",
       "        text-align: right;\n",
       "    }\n",
       "</style>\n",
       "<table border=\"1\" class=\"dataframe\">\n",
       "  <thead>\n",
       "    <tr style=\"text-align: right;\">\n",
       "      <th></th>\n",
       "      <th>end</th>\n",
       "      <th>val</th>\n",
       "      <th>frame</th>\n",
       "    </tr>\n",
       "  </thead>\n",
       "  <tbody>\n",
       "    <tr>\n",
       "      <th>3</th>\n",
       "      <td>2008-06-30</td>\n",
       "      <td>60420000000</td>\n",
       "      <td>CY2008</td>\n",
       "    </tr>\n",
       "    <tr>\n",
       "      <th>13</th>\n",
       "      <td>2009-06-30</td>\n",
       "      <td>58437000000</td>\n",
       "      <td>CY2009</td>\n",
       "    </tr>\n",
       "    <tr>\n",
       "      <th>26</th>\n",
       "      <td>2010-06-30</td>\n",
       "      <td>62484000000</td>\n",
       "      <td>CY2010</td>\n",
       "    </tr>\n",
       "  </tbody>\n",
       "</table>\n",
       "</div>"
      ],
      "text/plain": [
       "           end          val   frame\n",
       "3   2008-06-30  60420000000  CY2008\n",
       "13  2009-06-30  58437000000  CY2009\n",
       "26  2010-06-30  62484000000  CY2010"
      ]
     },
     "execution_count": 21,
     "metadata": {},
     "output_type": "execute_result"
    }
   ],
   "source": [
    "res10K = company_fin_df.loc[company_fin_df['form'] == \"10-K\", ['end','val','frame']].dropna()\n",
    "df2 = res10K[~res10K.frame.str.contains(\"Q\")]\n",
    "df2.head(10)"
   ]
  }
 ],
 "metadata": {
  "kernelspec": {
   "display_name": "Python 3",
   "language": "python",
   "name": "python3"
  },
  "language_info": {
   "codemirror_mode": {
    "name": "ipython",
    "version": 3
   },
   "file_extension": ".py",
   "mimetype": "text/x-python",
   "name": "python",
   "nbconvert_exporter": "python",
   "pygments_lexer": "ipython3",
   "version": "3.11.9"
  }
 },
 "nbformat": 4,
 "nbformat_minor": 2
}
